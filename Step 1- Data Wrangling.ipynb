{
 "cells": [
  {
   "cell_type": "markdown",
   "id": "36747a66-21a2-4b66-bee8-ec96cff7dd31",
   "metadata": {},
   "source": [
    "# DATA WRANGLING STEP"
   ]
  },
  {
   "cell_type": "markdown",
   "id": "07ed40d9-de19-40c8-98e7-3e0c84d84a70",
   "metadata": {
    "tags": []
   },
   "source": [
    "## Import libraries"
   ]
  },
  {
   "cell_type": "code",
   "execution_count": 1,
   "id": "1fc2c4ec-3aca-46b1-9aeb-781d57964570",
   "metadata": {},
   "outputs": [],
   "source": [
    "# import libraries\n",
    "import pandas as pd\n",
    "import numpy as np"
   ]
  },
  {
   "cell_type": "markdown",
   "id": "db2886c1-6ec4-4bfd-9b05-1726834b9ebe",
   "metadata": {},
   "source": [
    "## LOAD DATA"
   ]
  },
  {
   "cell_type": "code",
   "execution_count": 2,
   "id": "31257885-a95b-4122-bebb-682ddf6773cd",
   "metadata": {},
   "outputs": [
    {
     "data": {
      "text/html": [
       "<div>\n",
       "<style scoped>\n",
       "    .dataframe tbody tr th:only-of-type {\n",
       "        vertical-align: middle;\n",
       "    }\n",
       "\n",
       "    .dataframe tbody tr th {\n",
       "        vertical-align: top;\n",
       "    }\n",
       "\n",
       "    .dataframe thead th {\n",
       "        text-align: right;\n",
       "    }\n",
       "</style>\n",
       "<table border=\"1\" class=\"dataframe\">\n",
       "  <thead>\n",
       "    <tr style=\"text-align: right;\">\n",
       "      <th></th>\n",
       "      <th>Unnamed: 0</th>\n",
       "      <th>Unnamed: 1</th>\n",
       "      <th>LNG Flow</th>\n",
       "      <th>LNG Rundown Temperature</th>\n",
       "      <th>MR Operating Margin</th>\n",
       "      <th>PR Operating Margin</th>\n",
       "      <th>MR Compressor Suction Pressure</th>\n",
       "      <th>MCHE Warm bypass Temperature</th>\n",
       "      <th>MR return Temperature</th>\n",
       "      <th>MR Expander inlet Temperature</th>\n",
       "      <th>...</th>\n",
       "      <th>Unnamed: 33</th>\n",
       "      <th>Low Pressure Propane kettle level</th>\n",
       "      <th>Medium Pressure Propane/Natural Gas kettle level</th>\n",
       "      <th>High Pressure Propane/Natural Gas kettle level</th>\n",
       "      <th>High High Pressure Propane/Mixed Refrigerant kettle level</th>\n",
       "      <th>High Pressure Propane/Mixed Refrigerant kettle level</th>\n",
       "      <th>Medium Pressure Propane/Mixed Refrigerant kettle level</th>\n",
       "      <th>Low Pressure Propane/Mixed Refrigerant kettle level</th>\n",
       "      <th>MCHE Warm bypass temperature</th>\n",
       "      <th>Natural Gas Warm Bundle to scrub column</th>\n",
       "    </tr>\n",
       "  </thead>\n",
       "  <tbody>\n",
       "    <tr>\n",
       "      <th>0</th>\n",
       "      <td>NaN</td>\n",
       "      <td>NaN</td>\n",
       "      <td>12096.84375</td>\n",
       "      <td>-150.820312</td>\n",
       "      <td>2.859555</td>\n",
       "      <td>18.209555</td>\n",
       "      <td>2.317578</td>\n",
       "      <td>-41.851562</td>\n",
       "      <td>-36.96875</td>\n",
       "      <td>-127.460938</td>\n",
       "      <td>...</td>\n",
       "      <td>No Data</td>\n",
       "      <td>57.330078</td>\n",
       "      <td>64.28125</td>\n",
       "      <td>64.443359</td>\n",
       "      <td>65.195312</td>\n",
       "      <td>65.019531</td>\n",
       "      <td>64.574219</td>\n",
       "      <td>56.248047</td>\n",
       "      <td>-41.851562</td>\n",
       "      <td>-44.722656</td>\n",
       "    </tr>\n",
       "    <tr>\n",
       "      <th>1</th>\n",
       "      <td>NaN</td>\n",
       "      <td>NaN</td>\n",
       "      <td>12093.041016</td>\n",
       "      <td>-150.834961</td>\n",
       "      <td>2.921342</td>\n",
       "      <td>19.027306</td>\n",
       "      <td>2.327148</td>\n",
       "      <td>-41.924805</td>\n",
       "      <td>-37.035156</td>\n",
       "      <td>-127.407227</td>\n",
       "      <td>...</td>\n",
       "      <td>No Data</td>\n",
       "      <td>56.773438</td>\n",
       "      <td>64.289062</td>\n",
       "      <td>63.486328</td>\n",
       "      <td>65.564453</td>\n",
       "      <td>65.255859</td>\n",
       "      <td>64.496094</td>\n",
       "      <td>56.039062</td>\n",
       "      <td>-41.924805</td>\n",
       "      <td>-44.9375</td>\n",
       "    </tr>\n",
       "    <tr>\n",
       "      <th>2</th>\n",
       "      <td>NaN</td>\n",
       "      <td>NaN</td>\n",
       "      <td>12115.166016</td>\n",
       "      <td>-150.834961</td>\n",
       "      <td>3.106348</td>\n",
       "      <td>19.838921</td>\n",
       "      <td>2.329688</td>\n",
       "      <td>-42.402344</td>\n",
       "      <td>-37.070312</td>\n",
       "      <td>-127.456055</td>\n",
       "      <td>...</td>\n",
       "      <td>No Data</td>\n",
       "      <td>57.082031</td>\n",
       "      <td>64.048828</td>\n",
       "      <td>64.123047</td>\n",
       "      <td>65.482422</td>\n",
       "      <td>65.126953</td>\n",
       "      <td>64.095703</td>\n",
       "      <td>56.078125</td>\n",
       "      <td>-42.402344</td>\n",
       "      <td>-45.679688</td>\n",
       "    </tr>\n",
       "    <tr>\n",
       "      <th>3</th>\n",
       "      <td>NaN</td>\n",
       "      <td>NaN</td>\n",
       "      <td>12121.388672</td>\n",
       "      <td>-150.825195</td>\n",
       "      <td>2.908482</td>\n",
       "      <td>19.634964</td>\n",
       "      <td>2.34707</td>\n",
       "      <td>-42.188477</td>\n",
       "      <td>-37.117188</td>\n",
       "      <td>-127.275391</td>\n",
       "      <td>...</td>\n",
       "      <td>No Data</td>\n",
       "      <td>57.013672</td>\n",
       "      <td>64.261719</td>\n",
       "      <td>64.015625</td>\n",
       "      <td>65.261719</td>\n",
       "      <td>65.085938</td>\n",
       "      <td>64.152344</td>\n",
       "      <td>56.035156</td>\n",
       "      <td>-42.188477</td>\n",
       "      <td>-45.382812</td>\n",
       "    </tr>\n",
       "    <tr>\n",
       "      <th>4</th>\n",
       "      <td>NaN</td>\n",
       "      <td>NaN</td>\n",
       "      <td>12201.246094</td>\n",
       "      <td>-150.849609</td>\n",
       "      <td>3.01809</td>\n",
       "      <td>19.833036</td>\n",
       "      <td>2.341211</td>\n",
       "      <td>-42.080078</td>\n",
       "      <td>-37.082031</td>\n",
       "      <td>-127.250977</td>\n",
       "      <td>...</td>\n",
       "      <td>No Data</td>\n",
       "      <td>56.988281</td>\n",
       "      <td>64.34375</td>\n",
       "      <td>64.001953</td>\n",
       "      <td>65.244141</td>\n",
       "      <td>65.15625</td>\n",
       "      <td>64.169922</td>\n",
       "      <td>56.042969</td>\n",
       "      <td>-42.080078</td>\n",
       "      <td>-45.210938</td>\n",
       "    </tr>\n",
       "  </tbody>\n",
       "</table>\n",
       "<p>5 rows × 43 columns</p>\n",
       "</div>"
      ],
      "text/plain": [
       "   Unnamed: 0  Unnamed: 1      LNG Flow LNG Rundown Temperature  \\\n",
       "0         NaN         NaN   12096.84375             -150.820312   \n",
       "1         NaN         NaN  12093.041016             -150.834961   \n",
       "2         NaN         NaN  12115.166016             -150.834961   \n",
       "3         NaN         NaN  12121.388672             -150.825195   \n",
       "4         NaN         NaN  12201.246094             -150.849609   \n",
       "\n",
       "  MR Operating Margin PR Operating Margin MR Compressor Suction Pressure  \\\n",
       "0            2.859555           18.209555                       2.317578   \n",
       "1            2.921342           19.027306                       2.327148   \n",
       "2            3.106348           19.838921                       2.329688   \n",
       "3            2.908482           19.634964                        2.34707   \n",
       "4             3.01809           19.833036                       2.341211   \n",
       "\n",
       "  MCHE Warm bypass Temperature MR return Temperature  \\\n",
       "0                   -41.851562             -36.96875   \n",
       "1                   -41.924805            -37.035156   \n",
       "2                   -42.402344            -37.070312   \n",
       "3                   -42.188477            -37.117188   \n",
       "4                   -42.080078            -37.082031   \n",
       "\n",
       "  MR Expander inlet Temperature  ... Unnamed: 33  \\\n",
       "0                   -127.460938  ...     No Data   \n",
       "1                   -127.407227  ...     No Data   \n",
       "2                   -127.456055  ...     No Data   \n",
       "3                   -127.275391  ...     No Data   \n",
       "4                   -127.250977  ...     No Data   \n",
       "\n",
       "  Low Pressure Propane kettle level  \\\n",
       "0                         57.330078   \n",
       "1                         56.773438   \n",
       "2                         57.082031   \n",
       "3                         57.013672   \n",
       "4                         56.988281   \n",
       "\n",
       "  Medium Pressure Propane/Natural Gas kettle level  \\\n",
       "0                                         64.28125   \n",
       "1                                        64.289062   \n",
       "2                                        64.048828   \n",
       "3                                        64.261719   \n",
       "4                                         64.34375   \n",
       "\n",
       "  High Pressure Propane/Natural Gas kettle level  \\\n",
       "0                                      64.443359   \n",
       "1                                      63.486328   \n",
       "2                                      64.123047   \n",
       "3                                      64.015625   \n",
       "4                                      64.001953   \n",
       "\n",
       "  High High Pressure Propane/Mixed Refrigerant kettle level  \\\n",
       "0                                          65.195312          \n",
       "1                                          65.564453          \n",
       "2                                          65.482422          \n",
       "3                                          65.261719          \n",
       "4                                          65.244141          \n",
       "\n",
       "  High Pressure Propane/Mixed Refrigerant kettle level  \\\n",
       "0                                          65.019531     \n",
       "1                                          65.255859     \n",
       "2                                          65.126953     \n",
       "3                                          65.085938     \n",
       "4                                           65.15625     \n",
       "\n",
       "  Medium Pressure Propane/Mixed Refrigerant kettle level  \\\n",
       "0                                          64.574219       \n",
       "1                                          64.496094       \n",
       "2                                          64.095703       \n",
       "3                                          64.152344       \n",
       "4                                          64.169922       \n",
       "\n",
       "  Low Pressure Propane/Mixed Refrigerant kettle level  \\\n",
       "0                                          56.248047    \n",
       "1                                          56.039062    \n",
       "2                                          56.078125    \n",
       "3                                          56.035156    \n",
       "4                                          56.042969    \n",
       "\n",
       "  MCHE Warm bypass temperature Natural Gas Warm Bundle to scrub column  \n",
       "0                   -41.851562                              -44.722656  \n",
       "1                   -41.924805                                -44.9375  \n",
       "2                   -42.402344                              -45.679688  \n",
       "3                   -42.188477                              -45.382812  \n",
       "4                   -42.080078                              -45.210938  \n",
       "\n",
       "[5 rows x 43 columns]"
      ]
     },
     "execution_count": 2,
     "metadata": {},
     "output_type": "execute_result"
    }
   ],
   "source": [
    "filepath = \"./LNGDATA_M.xlsx\"\n",
    "df = pd.read_excel(filepath, skiprows=1)\n",
    "df.head()"
   ]
  },
  {
   "cell_type": "markdown",
   "id": "7c5759d7-b968-4f17-ba2c-ae0a73cc5f30",
   "metadata": {},
   "source": [
    "This data is likely to contain missing values, erratic values and unwanted values.\n",
    "\n",
    "This section focuses on handling all the missing values, converting correcting the data format"
   ]
  },
  {
   "cell_type": "markdown",
   "id": "c0afea4b-722d-499a-8393-afe285321809",
   "metadata": {
    "tags": []
   },
   "source": [
    "### - Handle missing values, and Errors in data"
   ]
  },
  {
   "cell_type": "code",
   "execution_count": 3,
   "id": "cc197a2a-bfec-41d0-857f-aba1f069e5cc",
   "metadata": {},
   "outputs": [
    {
     "data": {
      "text/plain": [
       "(70129, 43)"
      ]
     },
     "execution_count": 3,
     "metadata": {},
     "output_type": "execute_result"
    }
   ],
   "source": [
    "df.shape"
   ]
  },
  {
   "cell_type": "code",
   "execution_count": 4,
   "id": "c0c26da4-45cb-4f56-831d-e7a4262a8fc4",
   "metadata": {},
   "outputs": [
    {
     "name": "stdout",
     "output_type": "stream",
     "text": [
      "<class 'pandas.core.frame.DataFrame'>\n",
      "RangeIndex: 70129 entries, 0 to 70128\n",
      "Data columns (total 43 columns):\n",
      " #   Column                                                     Non-Null Count  Dtype  \n",
      "---  ------                                                     --------------  -----  \n",
      " 0   Unnamed: 0                                                 0 non-null      float64\n",
      " 1   Unnamed: 1                                                 0 non-null      float64\n",
      " 2   LNG Flow                                                   70129 non-null  object \n",
      " 3   LNG Rundown Temperature                                    70129 non-null  object \n",
      " 4   MR Operating Margin                                        70129 non-null  object \n",
      " 5   PR Operating Margin                                        70129 non-null  object \n",
      " 6   MR Compressor Suction Pressure                             70129 non-null  object \n",
      " 7   MCHE Warm bypass Temperature                               70129 non-null  object \n",
      " 8   MR return Temperature                                      70129 non-null  object \n",
      " 9   MR Expander inlet Temperature                              70129 non-null  object \n",
      " 10  LNG Shell Temp Top Bundle                                  70129 non-null  object \n",
      " 11  LMR JT Valve Valve Opening                                 70129 non-null  object \n",
      " 12  MCHE Cold bundle dp                                        70129 non-null  object \n",
      " 13  Volumetric MR Flow to MR comp. discharge                   70129 non-null  object \n",
      " 14  HMR Flow                                                   70129 non-null  object \n",
      " 15  HMR/MR Ratio                                               70129 non-null  object \n",
      " 16  LNG Flow Ex MCHE                                           70129 non-null  object \n",
      " 17  MCHE Warm Bypass Temperature                               70129 non-null  object \n",
      " 18  MR IGV Position                                            70129 non-null  object \n",
      " 19  MR Vessel Level                                            70129 non-null  object \n",
      " 20  MR Vessel Pressure                                         70129 non-null  object \n",
      " 21  Percentage Nitrogen in MR                                  70129 non-null  object \n",
      " 22  Percentage Methane in MR                                   70129 non-null  object \n",
      " 23  Percentage Ethane in MR                                    70129 non-null  object \n",
      " 24  Percentage Propane in MR                                   70129 non-null  object \n",
      " 25  Percentage Butane in MR                                    70129 non-null  object \n",
      " 26  Nitrogen Make-up flow                                      70129 non-null  object \n",
      " 27  Methane Make-up flow                                       70129 non-null  object \n",
      " 28  Ethane Make-up flow                                        70129 non-null  object \n",
      " 29  Propane Make-up flow                                       70129 non-null  object \n",
      " 30  Ambient Condition                                          70129 non-null  object \n",
      " 31  Scrub Column inlet Temperature                             70129 non-null  object \n",
      " 32  Natural Gas temp at MCHE warm bundle                       70129 non-null  object \n",
      " 33  Unnamed: 33                                                70129 non-null  object \n",
      " 34  Low Pressure Propane kettle level                          70129 non-null  object \n",
      " 35  Medium Pressure Propane/Natural Gas kettle level           70129 non-null  object \n",
      " 36  High Pressure Propane/Natural Gas kettle level             70129 non-null  object \n",
      " 37  High High Pressure Propane/Mixed Refrigerant kettle level  70129 non-null  object \n",
      " 38  High Pressure Propane/Mixed Refrigerant kettle level       70129 non-null  object \n",
      " 39  Medium Pressure Propane/Mixed Refrigerant kettle level     70129 non-null  object \n",
      " 40  Low Pressure Propane/Mixed Refrigerant kettle level        70129 non-null  object \n",
      " 41  MCHE Warm bypass temperature                               70129 non-null  object \n",
      " 42  Natural Gas Warm Bundle to scrub column                    70129 non-null  object \n",
      "dtypes: float64(2), object(41)\n",
      "memory usage: 23.0+ MB\n"
     ]
    }
   ],
   "source": [
    "df.info()"
   ]
  },
  {
   "cell_type": "markdown",
   "id": "87415493-756c-4167-82ff-c088491392db",
   "metadata": {},
   "source": [
    "---\n",
    "First, We will replace all the \"No Data\" values in the data to null values"
   ]
  },
  {
   "cell_type": "code",
   "execution_count": 5,
   "id": "11dc443e-2a71-41b1-9d0b-527873a891e5",
   "metadata": {},
   "outputs": [],
   "source": [
    "df.replace(\"No Data\", np.nan, inplace=True)"
   ]
  },
  {
   "cell_type": "code",
   "execution_count": 6,
   "id": "fa706e57-279a-47a2-85e0-7a24677c53a2",
   "metadata": {},
   "outputs": [
    {
     "name": "stdout",
     "output_type": "stream",
     "text": [
      "<class 'pandas.core.frame.DataFrame'>\n",
      "RangeIndex: 70129 entries, 0 to 70128\n",
      "Data columns (total 43 columns):\n",
      " #   Column                                                     Non-Null Count  Dtype  \n",
      "---  ------                                                     --------------  -----  \n",
      " 0   Unnamed: 0                                                 0 non-null      float64\n",
      " 1   Unnamed: 1                                                 0 non-null      float64\n",
      " 2   LNG Flow                                                   70129 non-null  object \n",
      " 3   LNG Rundown Temperature                                    70129 non-null  object \n",
      " 4   MR Operating Margin                                        70129 non-null  object \n",
      " 5   PR Operating Margin                                        70129 non-null  object \n",
      " 6   MR Compressor Suction Pressure                             70129 non-null  object \n",
      " 7   MCHE Warm bypass Temperature                               70129 non-null  object \n",
      " 8   MR return Temperature                                      70129 non-null  object \n",
      " 9   MR Expander inlet Temperature                              70129 non-null  object \n",
      " 10  LNG Shell Temp Top Bundle                                  70129 non-null  object \n",
      " 11  LMR JT Valve Valve Opening                                 70129 non-null  object \n",
      " 12  MCHE Cold bundle dp                                        70129 non-null  object \n",
      " 13  Volumetric MR Flow to MR comp. discharge                   33801 non-null  object \n",
      " 14  HMR Flow                                                   70129 non-null  object \n",
      " 15  HMR/MR Ratio                                               70129 non-null  object \n",
      " 16  LNG Flow Ex MCHE                                           70129 non-null  object \n",
      " 17  MCHE Warm Bypass Temperature                               70129 non-null  object \n",
      " 18  MR IGV Position                                            70129 non-null  object \n",
      " 19  MR Vessel Level                                            70129 non-null  object \n",
      " 20  MR Vessel Pressure                                         70129 non-null  object \n",
      " 21  Percentage Nitrogen in MR                                  70129 non-null  object \n",
      " 22  Percentage Methane in MR                                   70129 non-null  object \n",
      " 23  Percentage Ethane in MR                                    70129 non-null  object \n",
      " 24  Percentage Propane in MR                                   70129 non-null  object \n",
      " 25  Percentage Butane in MR                                    70129 non-null  object \n",
      " 26  Nitrogen Make-up flow                                      70129 non-null  object \n",
      " 27  Methane Make-up flow                                       70129 non-null  object \n",
      " 28  Ethane Make-up flow                                        70129 non-null  object \n",
      " 29  Propane Make-up flow                                       70129 non-null  object \n",
      " 30  Ambient Condition                                          70129 non-null  object \n",
      " 31  Scrub Column inlet Temperature                             70129 non-null  object \n",
      " 32  Natural Gas temp at MCHE warm bundle                       70129 non-null  object \n",
      " 33  Unnamed: 33                                                9709 non-null   object \n",
      " 34  Low Pressure Propane kettle level                          70129 non-null  object \n",
      " 35  Medium Pressure Propane/Natural Gas kettle level           70129 non-null  object \n",
      " 36  High Pressure Propane/Natural Gas kettle level             70129 non-null  object \n",
      " 37  High High Pressure Propane/Mixed Refrigerant kettle level  70129 non-null  object \n",
      " 38  High Pressure Propane/Mixed Refrigerant kettle level       70129 non-null  object \n",
      " 39  Medium Pressure Propane/Mixed Refrigerant kettle level     70129 non-null  object \n",
      " 40  Low Pressure Propane/Mixed Refrigerant kettle level        70129 non-null  object \n",
      " 41  MCHE Warm bypass temperature                               70129 non-null  object \n",
      " 42  Natural Gas Warm Bundle to scrub column                    70129 non-null  object \n",
      "dtypes: float64(2), object(41)\n",
      "memory usage: 23.0+ MB\n"
     ]
    }
   ],
   "source": [
    "df.info()"
   ]
  },
  {
   "cell_type": "markdown",
   "id": "ef92f37b-8a5c-4ef1-8228-ef5a917de92a",
   "metadata": {},
   "source": [
    "---\n",
    "Let's find out the erratic values in LNG Flow column"
   ]
  },
  {
   "cell_type": "code",
   "execution_count": 7,
   "id": "ec1b4968-6f9d-469d-8639-d9cbf035c1f3",
   "metadata": {},
   "outputs": [
    {
     "data": {
      "text/plain": [
       "array(['I/O Timeout', 'Invalid Data', 'Scan Off', 'Not Connect',\n",
       "       'Scan Timeout', 'Bad', 'Comm Fail'], dtype=object)"
      ]
     },
     "execution_count": 7,
     "metadata": {},
     "output_type": "execute_result"
    }
   ],
   "source": [
    "error1 = list(map(lambda x: isinstance(x, str), df[\"LNG Flow\"]))\n",
    "df['LNG Flow'].loc[error1].unique()"
   ]
  },
  {
   "cell_type": "code",
   "execution_count": 8,
   "id": "963c95dd-9bab-42df-9515-a1d54d49a90e",
   "metadata": {},
   "outputs": [],
   "source": [
    "error_values1 = df['LNG Flow'].loc[error1].unique()"
   ]
  },
  {
   "cell_type": "code",
   "execution_count": 9,
   "id": "80b973c6-a110-47bf-a715-be239d2e2e78",
   "metadata": {},
   "outputs": [],
   "source": [
    "df.replace(error_values1, np.nan, inplace= True)"
   ]
  },
  {
   "cell_type": "code",
   "execution_count": 10,
   "id": "a0a5cf31-5670-41f8-a37b-74af7449f6fd",
   "metadata": {},
   "outputs": [
    {
     "name": "stdout",
     "output_type": "stream",
     "text": [
      "<class 'pandas.core.frame.DataFrame'>\n",
      "RangeIndex: 70129 entries, 0 to 70128\n",
      "Data columns (total 43 columns):\n",
      " #   Column                                                     Non-Null Count  Dtype  \n",
      "---  ------                                                     --------------  -----  \n",
      " 0   Unnamed: 0                                                 0 non-null      float64\n",
      " 1   Unnamed: 1                                                 0 non-null      float64\n",
      " 2   LNG Flow                                                   70010 non-null  float64\n",
      " 3   LNG Rundown Temperature                                    70015 non-null  float64\n",
      " 4   MR Operating Margin                                        70086 non-null  float64\n",
      " 5   PR Operating Margin                                        70090 non-null  float64\n",
      " 6   MR Compressor Suction Pressure                             70039 non-null  float64\n",
      " 7   MCHE Warm bypass Temperature                               70043 non-null  float64\n",
      " 8   MR return Temperature                                      70009 non-null  float64\n",
      " 9   MR Expander inlet Temperature                              70005 non-null  float64\n",
      " 10  LNG Shell Temp Top Bundle                                  70101 non-null  float64\n",
      " 11  LMR JT Valve Valve Opening                                 70084 non-null  float64\n",
      " 12  MCHE Cold bundle dp                                        70008 non-null  object \n",
      " 13  Volumetric MR Flow to MR comp. discharge                   33625 non-null  object \n",
      " 14  HMR Flow                                                   70009 non-null  float64\n",
      " 15  HMR/MR Ratio                                               70093 non-null  float64\n",
      " 16  LNG Flow Ex MCHE                                           70010 non-null  float64\n",
      " 17  MCHE Warm Bypass Temperature                               70043 non-null  float64\n",
      " 18  MR IGV Position                                            70095 non-null  float64\n",
      " 19  MR Vessel Level                                            70014 non-null  object \n",
      " 20  MR Vessel Pressure                                         70013 non-null  float64\n",
      " 21  Percentage Nitrogen in MR                                  69892 non-null  object \n",
      " 22  Percentage Methane in MR                                   69900 non-null  object \n",
      " 23  Percentage Ethane in MR                                    69891 non-null  object \n",
      " 24  Percentage Propane in MR                                   69888 non-null  object \n",
      " 25  Percentage Butane in MR                                    69892 non-null  object \n",
      " 26  Nitrogen Make-up flow                                      70007 non-null  float64\n",
      " 27  Methane Make-up flow                                       69996 non-null  object \n",
      " 28  Ethane Make-up flow                                        70013 non-null  object \n",
      " 29  Propane Make-up flow                                       70005 non-null  object \n",
      " 30  Ambient Condition                                          69398 non-null  object \n",
      " 31  Scrub Column inlet Temperature                             70009 non-null  object \n",
      " 32  Natural Gas temp at MCHE warm bundle                       70020 non-null  float64\n",
      " 33  Unnamed: 33                                                6055 non-null   object \n",
      " 34  Low Pressure Propane kettle level                          70010 non-null  object \n",
      " 35  Medium Pressure Propane/Natural Gas kettle level           70015 non-null  object \n",
      " 36  High Pressure Propane/Natural Gas kettle level             70008 non-null  object \n",
      " 37  High High Pressure Propane/Mixed Refrigerant kettle level  70010 non-null  object \n",
      " 38  High Pressure Propane/Mixed Refrigerant kettle level       70003 non-null  object \n",
      " 39  Medium Pressure Propane/Mixed Refrigerant kettle level     70007 non-null  object \n",
      " 40  Low Pressure Propane/Mixed Refrigerant kettle level        70023 non-null  object \n",
      " 41  MCHE Warm bypass temperature                               70043 non-null  float64\n",
      " 42  Natural Gas Warm Bundle to scrub column                    70019 non-null  object \n",
      "dtypes: float64(21), object(22)\n",
      "memory usage: 23.0+ MB\n"
     ]
    }
   ],
   "source": [
    "df.info()"
   ]
  },
  {
   "cell_type": "markdown",
   "id": "439a7b68-fce9-465f-a792-7a43ae6877c5",
   "metadata": {},
   "source": [
    "---\n",
    "Lets find out the error values in \"MCHE Cold bundle dp\" column"
   ]
  },
  {
   "cell_type": "code",
   "execution_count": 12,
   "id": "b161f3ad-d100-4766-ba97-9792fd3b0bbe",
   "metadata": {},
   "outputs": [
    {
     "data": {
      "text/plain": [
       "array(['Out of Serv'], dtype=object)"
      ]
     },
     "execution_count": 12,
     "metadata": {},
     "output_type": "execute_result"
    }
   ],
   "source": [
    "error2 = list(map(lambda x: isinstance(x, str), df[\"MCHE Cold bundle dp\"]))\n",
    "df['MCHE Cold bundle dp'].loc[error2].unique()"
   ]
  },
  {
   "cell_type": "code",
   "execution_count": 13,
   "id": "bbe0ff04-9329-456b-bcc4-bd1c90023e9e",
   "metadata": {},
   "outputs": [],
   "source": [
    "error_values2 = df['MCHE Cold bundle dp'].loc[error2].unique()"
   ]
  },
  {
   "cell_type": "code",
   "execution_count": 14,
   "id": "0f13cfe3-3a5d-477c-8a23-2472741f20d3",
   "metadata": {},
   "outputs": [],
   "source": [
    "df.replace(error_values2, np.nan, inplace= True)"
   ]
  },
  {
   "cell_type": "code",
   "execution_count": 15,
   "id": "fd851890-81e8-4b55-9d6e-88e2790fc9f7",
   "metadata": {},
   "outputs": [
    {
     "name": "stdout",
     "output_type": "stream",
     "text": [
      "<class 'pandas.core.frame.DataFrame'>\n",
      "RangeIndex: 70129 entries, 0 to 70128\n",
      "Data columns (total 43 columns):\n",
      " #   Column                                                     Non-Null Count  Dtype  \n",
      "---  ------                                                     --------------  -----  \n",
      " 0   Unnamed: 0                                                 0 non-null      float64\n",
      " 1   Unnamed: 1                                                 0 non-null      float64\n",
      " 2   LNG Flow                                                   70010 non-null  float64\n",
      " 3   LNG Rundown Temperature                                    70015 non-null  float64\n",
      " 4   MR Operating Margin                                        70086 non-null  float64\n",
      " 5   PR Operating Margin                                        70090 non-null  float64\n",
      " 6   MR Compressor Suction Pressure                             70039 non-null  float64\n",
      " 7   MCHE Warm bypass Temperature                               70043 non-null  float64\n",
      " 8   MR return Temperature                                      70009 non-null  float64\n",
      " 9   MR Expander inlet Temperature                              70005 non-null  float64\n",
      " 10  LNG Shell Temp Top Bundle                                  70101 non-null  float64\n",
      " 11  LMR JT Valve Valve Opening                                 70084 non-null  float64\n",
      " 12  MCHE Cold bundle dp                                        70006 non-null  float64\n",
      " 13  Volumetric MR Flow to MR comp. discharge                   33625 non-null  object \n",
      " 14  HMR Flow                                                   70009 non-null  float64\n",
      " 15  HMR/MR Ratio                                               70093 non-null  float64\n",
      " 16  LNG Flow Ex MCHE                                           70010 non-null  float64\n",
      " 17  MCHE Warm Bypass Temperature                               70043 non-null  float64\n",
      " 18  MR IGV Position                                            70095 non-null  float64\n",
      " 19  MR Vessel Level                                            70014 non-null  object \n",
      " 20  MR Vessel Pressure                                         70013 non-null  float64\n",
      " 21  Percentage Nitrogen in MR                                  69891 non-null  object \n",
      " 22  Percentage Methane in MR                                   69899 non-null  object \n",
      " 23  Percentage Ethane in MR                                    69890 non-null  object \n",
      " 24  Percentage Propane in MR                                   69887 non-null  object \n",
      " 25  Percentage Butane in MR                                    69891 non-null  object \n",
      " 26  Nitrogen Make-up flow                                      70007 non-null  float64\n",
      " 27  Methane Make-up flow                                       69426 non-null  float64\n",
      " 28  Ethane Make-up flow                                        69814 non-null  float64\n",
      " 29  Propane Make-up flow                                       69962 non-null  float64\n",
      " 30  Ambient Condition                                          69261 non-null  object \n",
      " 31  Scrub Column inlet Temperature                             70009 non-null  object \n",
      " 32  Natural Gas temp at MCHE warm bundle                       70020 non-null  float64\n",
      " 33  Unnamed: 33                                                6055 non-null   object \n",
      " 34  Low Pressure Propane kettle level                          70010 non-null  object \n",
      " 35  Medium Pressure Propane/Natural Gas kettle level           70015 non-null  object \n",
      " 36  High Pressure Propane/Natural Gas kettle level             70008 non-null  object \n",
      " 37  High High Pressure Propane/Mixed Refrigerant kettle level  70010 non-null  object \n",
      " 38  High Pressure Propane/Mixed Refrigerant kettle level       70003 non-null  object \n",
      " 39  Medium Pressure Propane/Mixed Refrigerant kettle level     70007 non-null  object \n",
      " 40  Low Pressure Propane/Mixed Refrigerant kettle level        70023 non-null  object \n",
      " 41  MCHE Warm bypass temperature                               70043 non-null  float64\n",
      " 42  Natural Gas Warm Bundle to scrub column                    70019 non-null  object \n",
      "dtypes: float64(25), object(18)\n",
      "memory usage: 23.0+ MB\n"
     ]
    }
   ],
   "source": [
    "df.info()"
   ]
  },
  {
   "cell_type": "markdown",
   "id": "1d699437-23a9-4080-b9aa-496b9e9a0f54",
   "metadata": {},
   "source": [
    "---\n",
    "Lets find out the errors in \"Volumetric MR Flow to MR comp. discharge\" column"
   ]
  },
  {
   "cell_type": "code",
   "execution_count": 16,
   "id": "b518ddbf-3ee2-4b6a-921b-6888ccc7f990",
   "metadata": {},
   "outputs": [
    {
     "data": {
      "text/plain": [
       "array(['Unit Down'], dtype=object)"
      ]
     },
     "execution_count": 16,
     "metadata": {},
     "output_type": "execute_result"
    }
   ],
   "source": [
    "error3 = list(map(lambda x: isinstance(x, str), df[\"Volumetric MR Flow to MR comp. discharge\"]))\n",
    "df['Volumetric MR Flow to MR comp. discharge'].loc[error3].unique()"
   ]
  },
  {
   "cell_type": "code",
   "execution_count": 17,
   "id": "48e4aa86-6459-4066-9268-aa1e599f24e6",
   "metadata": {},
   "outputs": [],
   "source": [
    "error_values3 = df['Volumetric MR Flow to MR comp. discharge'].loc[error3].unique()"
   ]
  },
  {
   "cell_type": "code",
   "execution_count": 18,
   "id": "154a43f1-6bad-4795-9a37-834bfa64a805",
   "metadata": {},
   "outputs": [],
   "source": [
    "df.replace(error_values3, np.nan, inplace= True)"
   ]
  },
  {
   "cell_type": "code",
   "execution_count": 19,
   "id": "29a8b57d-186c-46fa-8b1c-7b4c2fbd9602",
   "metadata": {},
   "outputs": [
    {
     "name": "stdout",
     "output_type": "stream",
     "text": [
      "<class 'pandas.core.frame.DataFrame'>\n",
      "RangeIndex: 70129 entries, 0 to 70128\n",
      "Data columns (total 43 columns):\n",
      " #   Column                                                     Non-Null Count  Dtype  \n",
      "---  ------                                                     --------------  -----  \n",
      " 0   Unnamed: 0                                                 0 non-null      float64\n",
      " 1   Unnamed: 1                                                 0 non-null      float64\n",
      " 2   LNG Flow                                                   70010 non-null  float64\n",
      " 3   LNG Rundown Temperature                                    70015 non-null  float64\n",
      " 4   MR Operating Margin                                        70086 non-null  float64\n",
      " 5   PR Operating Margin                                        70090 non-null  float64\n",
      " 6   MR Compressor Suction Pressure                             70039 non-null  float64\n",
      " 7   MCHE Warm bypass Temperature                               70043 non-null  float64\n",
      " 8   MR return Temperature                                      70009 non-null  float64\n",
      " 9   MR Expander inlet Temperature                              70005 non-null  float64\n",
      " 10  LNG Shell Temp Top Bundle                                  70101 non-null  float64\n",
      " 11  LMR JT Valve Valve Opening                                 70084 non-null  float64\n",
      " 12  MCHE Cold bundle dp                                        70006 non-null  float64\n",
      " 13  Volumetric MR Flow to MR comp. discharge                   33504 non-null  float64\n",
      " 14  HMR Flow                                                   70009 non-null  float64\n",
      " 15  HMR/MR Ratio                                               70093 non-null  float64\n",
      " 16  LNG Flow Ex MCHE                                           70010 non-null  float64\n",
      " 17  MCHE Warm Bypass Temperature                               70043 non-null  float64\n",
      " 18  MR IGV Position                                            70095 non-null  float64\n",
      " 19  MR Vessel Level                                            69984 non-null  float64\n",
      " 20  MR Vessel Pressure                                         70013 non-null  float64\n",
      " 21  Percentage Nitrogen in MR                                  69726 non-null  object \n",
      " 22  Percentage Methane in MR                                   69734 non-null  object \n",
      " 23  Percentage Ethane in MR                                    69724 non-null  object \n",
      " 24  Percentage Propane in MR                                   69722 non-null  object \n",
      " 25  Percentage Butane in MR                                    69726 non-null  object \n",
      " 26  Nitrogen Make-up flow                                      70007 non-null  float64\n",
      " 27  Methane Make-up flow                                       69426 non-null  float64\n",
      " 28  Ethane Make-up flow                                        69814 non-null  float64\n",
      " 29  Propane Make-up flow                                       69962 non-null  float64\n",
      " 30  Ambient Condition                                          69260 non-null  float64\n",
      " 31  Scrub Column inlet Temperature                             69979 non-null  float64\n",
      " 32  Natural Gas temp at MCHE warm bundle                       70020 non-null  float64\n",
      " 33  Unnamed: 33                                                5913 non-null   object \n",
      " 34  Low Pressure Propane kettle level                          69891 non-null  float64\n",
      " 35  Medium Pressure Propane/Natural Gas kettle level           69575 non-null  float64\n",
      " 36  High Pressure Propane/Natural Gas kettle level             69598 non-null  float64\n",
      " 37  High High Pressure Propane/Mixed Refrigerant kettle level  69552 non-null  float64\n",
      " 38  High Pressure Propane/Mixed Refrigerant kettle level       69530 non-null  float64\n",
      " 39  Medium Pressure Propane/Mixed Refrigerant kettle level     69530 non-null  float64\n",
      " 40  Low Pressure Propane/Mixed Refrigerant kettle level        69929 non-null  float64\n",
      " 41  MCHE Warm bypass temperature                               70043 non-null  float64\n",
      " 42  Natural Gas Warm Bundle to scrub column                    69999 non-null  float64\n",
      "dtypes: float64(37), object(6)\n",
      "memory usage: 23.0+ MB\n"
     ]
    }
   ],
   "source": [
    "df.info()"
   ]
  },
  {
   "cell_type": "markdown",
   "id": "4534bd63-2f7e-47b9-ad40-bc72d551af91",
   "metadata": {},
   "source": [
    "---\n",
    "Lets find out the errors in \"Percentage Nitrogen in MR \" column"
   ]
  },
  {
   "cell_type": "code",
   "execution_count": 20,
   "id": "62ec9915-b0af-46ae-bad8-8ce59e9a62e6",
   "metadata": {},
   "outputs": [
    {
     "data": {
      "text/plain": [
       "array(['Bad Input'], dtype=object)"
      ]
     },
     "execution_count": 20,
     "metadata": {},
     "output_type": "execute_result"
    }
   ],
   "source": [
    "error4 = list(map(lambda x: isinstance(x, str), df[\"Percentage Nitrogen in MR\"]))\n",
    "df['Percentage Nitrogen in MR'].loc[error4].unique()"
   ]
  },
  {
   "cell_type": "code",
   "execution_count": 21,
   "id": "5206683f-1bd3-4834-9002-e554c87442ad",
   "metadata": {},
   "outputs": [],
   "source": [
    "error_values4 = df['Percentage Nitrogen in MR'].loc[error4].unique()"
   ]
  },
  {
   "cell_type": "code",
   "execution_count": 22,
   "id": "85a05067-8a52-4782-9fea-669e6165fe8d",
   "metadata": {},
   "outputs": [],
   "source": [
    "df.replace(error_values4, np.nan, inplace= True)"
   ]
  },
  {
   "cell_type": "code",
   "execution_count": 23,
   "id": "6d7c60cb-1e9f-4d97-ac0b-a5ce16f57850",
   "metadata": {},
   "outputs": [
    {
     "name": "stdout",
     "output_type": "stream",
     "text": [
      "<class 'pandas.core.frame.DataFrame'>\n",
      "RangeIndex: 70129 entries, 0 to 70128\n",
      "Data columns (total 43 columns):\n",
      " #   Column                                                     Non-Null Count  Dtype  \n",
      "---  ------                                                     --------------  -----  \n",
      " 0   Unnamed: 0                                                 0 non-null      float64\n",
      " 1   Unnamed: 1                                                 0 non-null      float64\n",
      " 2   LNG Flow                                                   70010 non-null  float64\n",
      " 3   LNG Rundown Temperature                                    70015 non-null  float64\n",
      " 4   MR Operating Margin                                        70086 non-null  float64\n",
      " 5   PR Operating Margin                                        70090 non-null  float64\n",
      " 6   MR Compressor Suction Pressure                             70039 non-null  float64\n",
      " 7   MCHE Warm bypass Temperature                               70043 non-null  float64\n",
      " 8   MR return Temperature                                      70009 non-null  float64\n",
      " 9   MR Expander inlet Temperature                              70005 non-null  float64\n",
      " 10  LNG Shell Temp Top Bundle                                  70101 non-null  float64\n",
      " 11  LMR JT Valve Valve Opening                                 70084 non-null  float64\n",
      " 12  MCHE Cold bundle dp                                        70006 non-null  float64\n",
      " 13  Volumetric MR Flow to MR comp. discharge                   33504 non-null  float64\n",
      " 14  HMR Flow                                                   70009 non-null  float64\n",
      " 15  HMR/MR Ratio                                               70093 non-null  float64\n",
      " 16  LNG Flow Ex MCHE                                           70010 non-null  float64\n",
      " 17  MCHE Warm Bypass Temperature                               70043 non-null  float64\n",
      " 18  MR IGV Position                                            70095 non-null  float64\n",
      " 19  MR Vessel Level                                            69984 non-null  float64\n",
      " 20  MR Vessel Pressure                                         70013 non-null  float64\n",
      " 21  Percentage Nitrogen in MR                                  69725 non-null  float64\n",
      " 22  Percentage Methane in MR                                   69733 non-null  float64\n",
      " 23  Percentage Ethane in MR                                    69723 non-null  float64\n",
      " 24  Percentage Propane in MR                                   69721 non-null  float64\n",
      " 25  Percentage Butane in MR                                    69725 non-null  float64\n",
      " 26  Nitrogen Make-up flow                                      70007 non-null  float64\n",
      " 27  Methane Make-up flow                                       69426 non-null  float64\n",
      " 28  Ethane Make-up flow                                        69814 non-null  float64\n",
      " 29  Propane Make-up flow                                       69962 non-null  float64\n",
      " 30  Ambient Condition                                          69260 non-null  float64\n",
      " 31  Scrub Column inlet Temperature                             69979 non-null  float64\n",
      " 32  Natural Gas temp at MCHE warm bundle                       70020 non-null  float64\n",
      " 33  Unnamed: 33                                                5913 non-null   object \n",
      " 34  Low Pressure Propane kettle level                          69891 non-null  float64\n",
      " 35  Medium Pressure Propane/Natural Gas kettle level           69575 non-null  float64\n",
      " 36  High Pressure Propane/Natural Gas kettle level             69598 non-null  float64\n",
      " 37  High High Pressure Propane/Mixed Refrigerant kettle level  69552 non-null  float64\n",
      " 38  High Pressure Propane/Mixed Refrigerant kettle level       69530 non-null  float64\n",
      " 39  Medium Pressure Propane/Mixed Refrigerant kettle level     69530 non-null  float64\n",
      " 40  Low Pressure Propane/Mixed Refrigerant kettle level        69929 non-null  float64\n",
      " 41  MCHE Warm bypass temperature                               70043 non-null  float64\n",
      " 42  Natural Gas Warm Bundle to scrub column                    69999 non-null  float64\n",
      "dtypes: float64(42), object(1)\n",
      "memory usage: 23.0+ MB\n"
     ]
    }
   ],
   "source": [
    "df.info()"
   ]
  },
  {
   "cell_type": "markdown",
   "id": "8b967076-6a5c-4242-8c69-2f659d7d77df",
   "metadata": {},
   "source": [
    "---\n",
    "Finally, We hve successfuly removed all the errors in the data.\n",
    "But we have two issues left:\n",
    "- Removing the unnamed columns\n",
    "- Eliminating Null values"
   ]
  },
  {
   "cell_type": "markdown",
   "id": "c802c9a3-39c2-477e-a9a9-abce04dc5d1a",
   "metadata": {
    "tags": []
   },
   "source": [
    "### - Removing the unnamed columns"
   ]
  },
  {
   "cell_type": "code",
   "execution_count": 24,
   "id": "ea375b2b-db1b-4040-b8e8-ab456e531c98",
   "metadata": {},
   "outputs": [
    {
     "data": {
      "text/plain": [
       "Index(['Unnamed: 0', 'Unnamed: 1', 'LNG Flow', 'LNG Rundown Temperature',\n",
       "       'MR Operating Margin', 'PR Operating Margin',\n",
       "       'MR Compressor Suction Pressure', 'MCHE Warm bypass Temperature',\n",
       "       'MR return Temperature', 'MR Expander inlet Temperature',\n",
       "       'LNG Shell Temp Top Bundle', 'LMR JT Valve Valve Opening',\n",
       "       'MCHE Cold bundle dp', 'Volumetric MR Flow to MR comp. discharge',\n",
       "       'HMR Flow ', 'HMR/MR Ratio', 'LNG Flow Ex MCHE',\n",
       "       'MCHE Warm Bypass Temperature', 'MR IGV Position', 'MR Vessel Level',\n",
       "       'MR Vessel Pressure', 'Percentage Nitrogen in MR',\n",
       "       'Percentage Methane in MR', 'Percentage Ethane in MR',\n",
       "       'Percentage Propane in MR', 'Percentage Butane in MR',\n",
       "       'Nitrogen Make-up flow', 'Methane Make-up flow', 'Ethane Make-up flow',\n",
       "       'Propane Make-up flow', 'Ambient Condition',\n",
       "       'Scrub Column inlet Temperature',\n",
       "       'Natural Gas temp at MCHE warm bundle', 'Unnamed: 33',\n",
       "       'Low Pressure Propane kettle level',\n",
       "       'Medium Pressure Propane/Natural Gas kettle level',\n",
       "       'High Pressure Propane/Natural Gas kettle level',\n",
       "       'High High Pressure Propane/Mixed Refrigerant kettle level',\n",
       "       'High Pressure Propane/Mixed Refrigerant kettle level',\n",
       "       'Medium Pressure Propane/Mixed Refrigerant kettle level',\n",
       "       'Low Pressure Propane/Mixed Refrigerant kettle level',\n",
       "       'MCHE Warm bypass temperature',\n",
       "       'Natural Gas Warm Bundle to scrub column'],\n",
       "      dtype='object')"
      ]
     },
     "execution_count": 24,
     "metadata": {},
     "output_type": "execute_result"
    }
   ],
   "source": [
    "df.columns"
   ]
  },
  {
   "cell_type": "code",
   "execution_count": 25,
   "id": "32d273db-f546-473c-be7f-eb749a35e05a",
   "metadata": {},
   "outputs": [],
   "source": [
    "columns_to_drop = ['Unnamed: 0', 'Unnamed: 1', 'Unnamed: 33']\n",
    "df.drop(columns_to_drop, axis = 1, inplace=True)"
   ]
  },
  {
   "cell_type": "code",
   "execution_count": 26,
   "id": "46198d9b-3b6b-4a47-ae9f-60d3228a25d3",
   "metadata": {},
   "outputs": [
    {
     "data": {
      "text/plain": [
       "Index(['LNG Flow', 'LNG Rundown Temperature', 'MR Operating Margin',\n",
       "       'PR Operating Margin', 'MR Compressor Suction Pressure',\n",
       "       'MCHE Warm bypass Temperature', 'MR return Temperature',\n",
       "       'MR Expander inlet Temperature', 'LNG Shell Temp Top Bundle',\n",
       "       'LMR JT Valve Valve Opening', 'MCHE Cold bundle dp',\n",
       "       'Volumetric MR Flow to MR comp. discharge', 'HMR Flow ', 'HMR/MR Ratio',\n",
       "       'LNG Flow Ex MCHE', 'MCHE Warm Bypass Temperature', 'MR IGV Position',\n",
       "       'MR Vessel Level', 'MR Vessel Pressure', 'Percentage Nitrogen in MR',\n",
       "       'Percentage Methane in MR', 'Percentage Ethane in MR',\n",
       "       'Percentage Propane in MR', 'Percentage Butane in MR',\n",
       "       'Nitrogen Make-up flow', 'Methane Make-up flow', 'Ethane Make-up flow',\n",
       "       'Propane Make-up flow', 'Ambient Condition',\n",
       "       'Scrub Column inlet Temperature',\n",
       "       'Natural Gas temp at MCHE warm bundle',\n",
       "       'Low Pressure Propane kettle level',\n",
       "       'Medium Pressure Propane/Natural Gas kettle level',\n",
       "       'High Pressure Propane/Natural Gas kettle level',\n",
       "       'High High Pressure Propane/Mixed Refrigerant kettle level',\n",
       "       'High Pressure Propane/Mixed Refrigerant kettle level',\n",
       "       'Medium Pressure Propane/Mixed Refrigerant kettle level',\n",
       "       'Low Pressure Propane/Mixed Refrigerant kettle level',\n",
       "       'MCHE Warm bypass temperature',\n",
       "       'Natural Gas Warm Bundle to scrub column'],\n",
       "      dtype='object')"
      ]
     },
     "execution_count": 26,
     "metadata": {},
     "output_type": "execute_result"
    }
   ],
   "source": [
    "#Check the columns again\n",
    "df.columns"
   ]
  },
  {
   "cell_type": "markdown",
   "id": "27cce529-ef6b-46a8-8635-c8e3093d8a20",
   "metadata": {
    "jp-MarkdownHeadingCollapsed": true,
    "tags": []
   },
   "source": [
    "### -Drop all rows with null values"
   ]
  },
  {
   "cell_type": "code",
   "execution_count": 27,
   "id": "2518e61b-7df0-4757-8380-975a14b12f41",
   "metadata": {},
   "outputs": [],
   "source": [
    "df.dropna(inplace=True)"
   ]
  },
  {
   "cell_type": "code",
   "execution_count": 28,
   "id": "e8e2c4f1-5f4f-4589-82e4-c4c1a3989c7c",
   "metadata": {},
   "outputs": [
    {
     "data": {
      "text/plain": [
       "(32024, 40)"
      ]
     },
     "execution_count": 28,
     "metadata": {},
     "output_type": "execute_result"
    }
   ],
   "source": [
    "df.shape"
   ]
  },
  {
   "cell_type": "markdown",
   "id": "614e153a-fe9e-49a8-b333-eee74edfed76",
   "metadata": {},
   "source": [
    "After removing all the null values, the number of records in our data frame has reduced to `32024` records"
   ]
  },
  {
   "cell_type": "markdown",
   "id": "b387f0b1-b9ac-438b-a8f8-8a78541573aa",
   "metadata": {
    "tags": []
   },
   "source": [
    "## Summary"
   ]
  },
  {
   "cell_type": "code",
   "execution_count": 29,
   "id": "8fd2fe32-3890-4319-865e-b39a33cd41e7",
   "metadata": {},
   "outputs": [
    {
     "name": "stdout",
     "output_type": "stream",
     "text": [
      "<class 'pandas.core.frame.DataFrame'>\n",
      "Int64Index: 32024 entries, 36328 to 70128\n",
      "Data columns (total 40 columns):\n",
      " #   Column                                                     Non-Null Count  Dtype  \n",
      "---  ------                                                     --------------  -----  \n",
      " 0   LNG Flow                                                   32024 non-null  float64\n",
      " 1   LNG Rundown Temperature                                    32024 non-null  float64\n",
      " 2   MR Operating Margin                                        32024 non-null  float64\n",
      " 3   PR Operating Margin                                        32024 non-null  float64\n",
      " 4   MR Compressor Suction Pressure                             32024 non-null  float64\n",
      " 5   MCHE Warm bypass Temperature                               32024 non-null  float64\n",
      " 6   MR return Temperature                                      32024 non-null  float64\n",
      " 7   MR Expander inlet Temperature                              32024 non-null  float64\n",
      " 8   LNG Shell Temp Top Bundle                                  32024 non-null  float64\n",
      " 9   LMR JT Valve Valve Opening                                 32024 non-null  float64\n",
      " 10  MCHE Cold bundle dp                                        32024 non-null  float64\n",
      " 11  Volumetric MR Flow to MR comp. discharge                   32024 non-null  float64\n",
      " 12  HMR Flow                                                   32024 non-null  float64\n",
      " 13  HMR/MR Ratio                                               32024 non-null  float64\n",
      " 14  LNG Flow Ex MCHE                                           32024 non-null  float64\n",
      " 15  MCHE Warm Bypass Temperature                               32024 non-null  float64\n",
      " 16  MR IGV Position                                            32024 non-null  float64\n",
      " 17  MR Vessel Level                                            32024 non-null  float64\n",
      " 18  MR Vessel Pressure                                         32024 non-null  float64\n",
      " 19  Percentage Nitrogen in MR                                  32024 non-null  float64\n",
      " 20  Percentage Methane in MR                                   32024 non-null  float64\n",
      " 21  Percentage Ethane in MR                                    32024 non-null  float64\n",
      " 22  Percentage Propane in MR                                   32024 non-null  float64\n",
      " 23  Percentage Butane in MR                                    32024 non-null  float64\n",
      " 24  Nitrogen Make-up flow                                      32024 non-null  float64\n",
      " 25  Methane Make-up flow                                       32024 non-null  float64\n",
      " 26  Ethane Make-up flow                                        32024 non-null  float64\n",
      " 27  Propane Make-up flow                                       32024 non-null  float64\n",
      " 28  Ambient Condition                                          32024 non-null  float64\n",
      " 29  Scrub Column inlet Temperature                             32024 non-null  float64\n",
      " 30  Natural Gas temp at MCHE warm bundle                       32024 non-null  float64\n",
      " 31  Low Pressure Propane kettle level                          32024 non-null  float64\n",
      " 32  Medium Pressure Propane/Natural Gas kettle level           32024 non-null  float64\n",
      " 33  High Pressure Propane/Natural Gas kettle level             32024 non-null  float64\n",
      " 34  High High Pressure Propane/Mixed Refrigerant kettle level  32024 non-null  float64\n",
      " 35  High Pressure Propane/Mixed Refrigerant kettle level       32024 non-null  float64\n",
      " 36  Medium Pressure Propane/Mixed Refrigerant kettle level     32024 non-null  float64\n",
      " 37  Low Pressure Propane/Mixed Refrigerant kettle level        32024 non-null  float64\n",
      " 38  MCHE Warm bypass temperature                               32024 non-null  float64\n",
      " 39  Natural Gas Warm Bundle to scrub column                    32024 non-null  float64\n",
      "dtypes: float64(40)\n",
      "memory usage: 10.0 MB\n"
     ]
    }
   ],
   "source": [
    "# lets run a summary on the data \n",
    "df.info()"
   ]
  },
  {
   "cell_type": "markdown",
   "id": "ec5beb9d-3282-429c-8023-e9ab784ae4ac",
   "metadata": {},
   "source": [
    "## Export Data\n",
    "\n",
    "The data looks neat, let's export the data and proceed to Exploratory data analysis"
   ]
  },
  {
   "cell_type": "code",
   "execution_count": 31,
   "id": "7bdd2d12-85c6-4c11-b2c7-e2844a6add21",
   "metadata": {},
   "outputs": [
    {
     "name": "stdout",
     "output_type": "stream",
     "text": [
      "Exported successfully\n"
     ]
    }
   ],
   "source": [
    "df.to_csv(\"LNG-DATA.csv\")\n",
    "print(\"Exported successfully\")"
   ]
  },
  {
   "cell_type": "code",
   "execution_count": null,
   "id": "a952bd3b-e144-4a7a-9bcf-1da851427d58",
   "metadata": {},
   "outputs": [],
   "source": []
  }
 ],
 "metadata": {
  "kernelspec": {
   "display_name": "Python 3 (ipykernel)",
   "language": "python",
   "name": "python3"
  },
  "language_info": {
   "codemirror_mode": {
    "name": "ipython",
    "version": 3
   },
   "file_extension": ".py",
   "mimetype": "text/x-python",
   "name": "python",
   "nbconvert_exporter": "python",
   "pygments_lexer": "ipython3",
   "version": "3.10.0"
  }
 },
 "nbformat": 4,
 "nbformat_minor": 5
}
