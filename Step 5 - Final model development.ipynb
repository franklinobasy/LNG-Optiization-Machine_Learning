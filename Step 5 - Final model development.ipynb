{
 "cells": [
  {
   "cell_type": "markdown",
   "id": "c0163192-6dc4-4d87-bd8f-ef709a34c0fd",
   "metadata": {},
   "source": [
    "# Final Model Development phase"
   ]
  },
  {
   "cell_type": "markdown",
   "id": "5fa9ebc3-c72f-4f99-b069-b0a1e357acbd",
   "metadata": {
    "tags": []
   },
   "source": [
    "## Prepare data"
   ]
  },
  {
   "cell_type": "code",
   "execution_count": 1,
   "id": "55db51a5-961e-4288-a52e-b006812d9205",
   "metadata": {},
   "outputs": [],
   "source": [
    "import pandas as pd\n",
    "import numpy as np"
   ]
  },
  {
   "cell_type": "code",
   "execution_count": 2,
   "id": "4ee48f76-552e-4cfd-8d00-257087aec7c8",
   "metadata": {},
   "outputs": [
    {
     "data": {
      "text/html": [
       "<div>\n",
       "<style scoped>\n",
       "    .dataframe tbody tr th:only-of-type {\n",
       "        vertical-align: middle;\n",
       "    }\n",
       "\n",
       "    .dataframe tbody tr th {\n",
       "        vertical-align: top;\n",
       "    }\n",
       "\n",
       "    .dataframe thead th {\n",
       "        text-align: right;\n",
       "    }\n",
       "</style>\n",
       "<table border=\"1\" class=\"dataframe\">\n",
       "  <thead>\n",
       "    <tr style=\"text-align: right;\">\n",
       "      <th></th>\n",
       "      <th>Unnamed: 0</th>\n",
       "      <th>LNG Flow</th>\n",
       "      <th>LNG Rundown Temperature</th>\n",
       "      <th>MR Operating Margin</th>\n",
       "      <th>PR Operating Margin</th>\n",
       "      <th>MR Compressor Suction Pressure</th>\n",
       "      <th>MCHE Warm bypass Temperature</th>\n",
       "      <th>MR return Temperature</th>\n",
       "      <th>MR Expander inlet Temperature</th>\n",
       "      <th>LNG Shell Temp Top Bundle</th>\n",
       "      <th>...</th>\n",
       "      <th>Natural Gas temp at MCHE warm bundle</th>\n",
       "      <th>Low Pressure Propane kettle level</th>\n",
       "      <th>Medium Pressure Propane/Natural Gas kettle level</th>\n",
       "      <th>High Pressure Propane/Natural Gas kettle level</th>\n",
       "      <th>High High Pressure Propane/Mixed Refrigerant kettle level</th>\n",
       "      <th>High Pressure Propane/Mixed Refrigerant kettle level</th>\n",
       "      <th>Medium Pressure Propane/Mixed Refrigerant kettle level</th>\n",
       "      <th>Low Pressure Propane/Mixed Refrigerant kettle level</th>\n",
       "      <th>MCHE Warm bypass temperature</th>\n",
       "      <th>Natural Gas Warm Bundle to scrub column</th>\n",
       "    </tr>\n",
       "  </thead>\n",
       "  <tbody>\n",
       "    <tr>\n",
       "      <th>0</th>\n",
       "      <td>36328</td>\n",
       "      <td>12470.894531</td>\n",
       "      <td>-145.712891</td>\n",
       "      <td>5.215329</td>\n",
       "      <td>5.215329</td>\n",
       "      <td>2.730273</td>\n",
       "      <td>-42.124023</td>\n",
       "      <td>-34.738281</td>\n",
       "      <td>-121.396484</td>\n",
       "      <td>0.727539</td>\n",
       "      <td>...</td>\n",
       "      <td>-32.703125</td>\n",
       "      <td>69.798828</td>\n",
       "      <td>70.355469</td>\n",
       "      <td>69.316406</td>\n",
       "      <td>71.503906</td>\n",
       "      <td>72.011719</td>\n",
       "      <td>71.683594</td>\n",
       "      <td>62.857422</td>\n",
       "      <td>-42.124023</td>\n",
       "      <td>-53.886719</td>\n",
       "    </tr>\n",
       "    <tr>\n",
       "      <th>1</th>\n",
       "      <td>36329</td>\n",
       "      <td>12109.980469</td>\n",
       "      <td>-145.844727</td>\n",
       "      <td>4.203972</td>\n",
       "      <td>4.203972</td>\n",
       "      <td>2.740625</td>\n",
       "      <td>-44.075195</td>\n",
       "      <td>-34.828125</td>\n",
       "      <td>-120.605469</td>\n",
       "      <td>0.693359</td>\n",
       "      <td>...</td>\n",
       "      <td>-32.910156</td>\n",
       "      <td>70.337891</td>\n",
       "      <td>71.156250</td>\n",
       "      <td>72.058594</td>\n",
       "      <td>72.187500</td>\n",
       "      <td>71.443359</td>\n",
       "      <td>70.917969</td>\n",
       "      <td>62.437500</td>\n",
       "      <td>-44.075195</td>\n",
       "      <td>-53.781250</td>\n",
       "    </tr>\n",
       "    <tr>\n",
       "      <th>2</th>\n",
       "      <td>36330</td>\n",
       "      <td>12578.753906</td>\n",
       "      <td>-145.966797</td>\n",
       "      <td>4.852132</td>\n",
       "      <td>4.852132</td>\n",
       "      <td>2.710742</td>\n",
       "      <td>-41.948242</td>\n",
       "      <td>-36.542969</td>\n",
       "      <td>-121.542969</td>\n",
       "      <td>0.742188</td>\n",
       "      <td>...</td>\n",
       "      <td>-32.414062</td>\n",
       "      <td>69.833984</td>\n",
       "      <td>69.199219</td>\n",
       "      <td>68.835938</td>\n",
       "      <td>71.998047</td>\n",
       "      <td>71.568359</td>\n",
       "      <td>72.640625</td>\n",
       "      <td>63.259766</td>\n",
       "      <td>-41.948242</td>\n",
       "      <td>-55.460938</td>\n",
       "    </tr>\n",
       "    <tr>\n",
       "      <th>3</th>\n",
       "      <td>36331</td>\n",
       "      <td>11478.726562</td>\n",
       "      <td>-145.561523</td>\n",
       "      <td>13.105408</td>\n",
       "      <td>13.523663</td>\n",
       "      <td>2.537109</td>\n",
       "      <td>-44.016602</td>\n",
       "      <td>-36.480469</td>\n",
       "      <td>-122.675781</td>\n",
       "      <td>0.561523</td>\n",
       "      <td>...</td>\n",
       "      <td>-33.824219</td>\n",
       "      <td>69.722656</td>\n",
       "      <td>68.837891</td>\n",
       "      <td>70.060547</td>\n",
       "      <td>72.734375</td>\n",
       "      <td>72.949219</td>\n",
       "      <td>74.408203</td>\n",
       "      <td>65.121094</td>\n",
       "      <td>-44.016602</td>\n",
       "      <td>-54.972656</td>\n",
       "    </tr>\n",
       "    <tr>\n",
       "      <th>4</th>\n",
       "      <td>36332</td>\n",
       "      <td>11518.482422</td>\n",
       "      <td>-145.175781</td>\n",
       "      <td>18.634928</td>\n",
       "      <td>16.372524</td>\n",
       "      <td>2.546680</td>\n",
       "      <td>-44.965820</td>\n",
       "      <td>-37.191406</td>\n",
       "      <td>-123.364258</td>\n",
       "      <td>0.634766</td>\n",
       "      <td>...</td>\n",
       "      <td>-35.625000</td>\n",
       "      <td>69.921875</td>\n",
       "      <td>70.478516</td>\n",
       "      <td>71.187500</td>\n",
       "      <td>73.919922</td>\n",
       "      <td>72.933594</td>\n",
       "      <td>76.076172</td>\n",
       "      <td>62.156250</td>\n",
       "      <td>-44.965820</td>\n",
       "      <td>-53.632812</td>\n",
       "    </tr>\n",
       "  </tbody>\n",
       "</table>\n",
       "<p>5 rows × 41 columns</p>\n",
       "</div>"
      ],
      "text/plain": [
       "   Unnamed: 0      LNG Flow  LNG Rundown Temperature  MR Operating Margin  \\\n",
       "0       36328  12470.894531              -145.712891             5.215329   \n",
       "1       36329  12109.980469              -145.844727             4.203972   \n",
       "2       36330  12578.753906              -145.966797             4.852132   \n",
       "3       36331  11478.726562              -145.561523            13.105408   \n",
       "4       36332  11518.482422              -145.175781            18.634928   \n",
       "\n",
       "   PR Operating Margin  MR Compressor Suction Pressure  \\\n",
       "0             5.215329                        2.730273   \n",
       "1             4.203972                        2.740625   \n",
       "2             4.852132                        2.710742   \n",
       "3            13.523663                        2.537109   \n",
       "4            16.372524                        2.546680   \n",
       "\n",
       "   MCHE Warm bypass Temperature  MR return Temperature  \\\n",
       "0                    -42.124023             -34.738281   \n",
       "1                    -44.075195             -34.828125   \n",
       "2                    -41.948242             -36.542969   \n",
       "3                    -44.016602             -36.480469   \n",
       "4                    -44.965820             -37.191406   \n",
       "\n",
       "   MR Expander inlet Temperature  LNG Shell Temp Top Bundle  ...  \\\n",
       "0                    -121.396484                   0.727539  ...   \n",
       "1                    -120.605469                   0.693359  ...   \n",
       "2                    -121.542969                   0.742188  ...   \n",
       "3                    -122.675781                   0.561523  ...   \n",
       "4                    -123.364258                   0.634766  ...   \n",
       "\n",
       "   Natural Gas temp at MCHE warm bundle  Low Pressure Propane kettle level  \\\n",
       "0                            -32.703125                          69.798828   \n",
       "1                            -32.910156                          70.337891   \n",
       "2                            -32.414062                          69.833984   \n",
       "3                            -33.824219                          69.722656   \n",
       "4                            -35.625000                          69.921875   \n",
       "\n",
       "   Medium Pressure Propane/Natural Gas kettle level  \\\n",
       "0                                         70.355469   \n",
       "1                                         71.156250   \n",
       "2                                         69.199219   \n",
       "3                                         68.837891   \n",
       "4                                         70.478516   \n",
       "\n",
       "   High Pressure Propane/Natural Gas kettle level  \\\n",
       "0                                       69.316406   \n",
       "1                                       72.058594   \n",
       "2                                       68.835938   \n",
       "3                                       70.060547   \n",
       "4                                       71.187500   \n",
       "\n",
       "   High High Pressure Propane/Mixed Refrigerant kettle level  \\\n",
       "0                                          71.503906           \n",
       "1                                          72.187500           \n",
       "2                                          71.998047           \n",
       "3                                          72.734375           \n",
       "4                                          73.919922           \n",
       "\n",
       "   High Pressure Propane/Mixed Refrigerant kettle level  \\\n",
       "0                                          72.011719      \n",
       "1                                          71.443359      \n",
       "2                                          71.568359      \n",
       "3                                          72.949219      \n",
       "4                                          72.933594      \n",
       "\n",
       "   Medium Pressure Propane/Mixed Refrigerant kettle level  \\\n",
       "0                                          71.683594        \n",
       "1                                          70.917969        \n",
       "2                                          72.640625        \n",
       "3                                          74.408203        \n",
       "4                                          76.076172        \n",
       "\n",
       "   Low Pressure Propane/Mixed Refrigerant kettle level  \\\n",
       "0                                          62.857422     \n",
       "1                                          62.437500     \n",
       "2                                          63.259766     \n",
       "3                                          65.121094     \n",
       "4                                          62.156250     \n",
       "\n",
       "   MCHE Warm bypass temperature  Natural Gas Warm Bundle to scrub column  \n",
       "0                    -42.124023                               -53.886719  \n",
       "1                    -44.075195                               -53.781250  \n",
       "2                    -41.948242                               -55.460938  \n",
       "3                    -44.016602                               -54.972656  \n",
       "4                    -44.965820                               -53.632812  \n",
       "\n",
       "[5 rows x 41 columns]"
      ]
     },
     "execution_count": 2,
     "metadata": {},
     "output_type": "execute_result"
    }
   ],
   "source": [
    "path = './LNG-DATA.csv'\n",
    "df = pd.read_csv(path)\n",
    "df.head()"
   ]
  },
  {
   "cell_type": "code",
   "execution_count": 3,
   "id": "77066574-8616-4167-b822-5b4e61e3a78b",
   "metadata": {},
   "outputs": [],
   "source": [
    "df.drop('Unnamed: 0', axis= 1, inplace=True)"
   ]
  },
  {
   "cell_type": "code",
   "execution_count": 4,
   "id": "e4228d87-1e33-40b6-bf96-ba9076ec64e5",
   "metadata": {},
   "outputs": [],
   "source": [
    "columns_to_use = ['LNG Flow', 'LNG Rundown Temperature','MR IGV Position','HMR Flow ', 'HMR/MR Ratio', \n",
    "                  'Percentage Nitrogen in MR', 'Percentage Methane in MR', 'Percentage Ethane in MR', \n",
    "                  'Percentage Propane in MR', 'Percentage Butane in MR', 'Ambient Condition', 'Low Pressure Propane/Mixed Refrigerant kettle level']"
   ]
  },
  {
   "cell_type": "code",
   "execution_count": 5,
   "id": "ce944dd9-525a-4577-a343-9ed5eee9353d",
   "metadata": {},
   "outputs": [
    {
     "data": {
      "text/html": [
       "<div>\n",
       "<style scoped>\n",
       "    .dataframe tbody tr th:only-of-type {\n",
       "        vertical-align: middle;\n",
       "    }\n",
       "\n",
       "    .dataframe tbody tr th {\n",
       "        vertical-align: top;\n",
       "    }\n",
       "\n",
       "    .dataframe thead th {\n",
       "        text-align: right;\n",
       "    }\n",
       "</style>\n",
       "<table border=\"1\" class=\"dataframe\">\n",
       "  <thead>\n",
       "    <tr style=\"text-align: right;\">\n",
       "      <th></th>\n",
       "      <th>LNG Flow</th>\n",
       "      <th>LNG Rundown Temperature</th>\n",
       "      <th>MR IGV Position</th>\n",
       "      <th>HMR Flow</th>\n",
       "      <th>HMR/MR Ratio</th>\n",
       "      <th>Percentage Nitrogen in MR</th>\n",
       "      <th>Percentage Methane in MR</th>\n",
       "      <th>Percentage Ethane in MR</th>\n",
       "      <th>Percentage Propane in MR</th>\n",
       "      <th>Percentage Butane in MR</th>\n",
       "      <th>Ambient Condition</th>\n",
       "      <th>Low Pressure Propane/Mixed Refrigerant kettle level</th>\n",
       "    </tr>\n",
       "  </thead>\n",
       "  <tbody>\n",
       "    <tr>\n",
       "      <th>0</th>\n",
       "      <td>12470.894531</td>\n",
       "      <td>-145.712891</td>\n",
       "      <td>77.762802</td>\n",
       "      <td>18679.066406</td>\n",
       "      <td>5.310718</td>\n",
       "      <td>3.646484</td>\n",
       "      <td>42.500000</td>\n",
       "      <td>43.532619</td>\n",
       "      <td>10.102832</td>\n",
       "      <td>0.125508</td>\n",
       "      <td>33.207268</td>\n",
       "      <td>62.857422</td>\n",
       "    </tr>\n",
       "    <tr>\n",
       "      <th>1</th>\n",
       "      <td>12109.980469</td>\n",
       "      <td>-145.844727</td>\n",
       "      <td>77.999893</td>\n",
       "      <td>18802.667969</td>\n",
       "      <td>5.283063</td>\n",
       "      <td>3.659180</td>\n",
       "      <td>42.519924</td>\n",
       "      <td>43.567482</td>\n",
       "      <td>10.041308</td>\n",
       "      <td>0.124922</td>\n",
       "      <td>33.207268</td>\n",
       "      <td>62.437500</td>\n",
       "    </tr>\n",
       "    <tr>\n",
       "      <th>2</th>\n",
       "      <td>12578.753906</td>\n",
       "      <td>-145.966797</td>\n",
       "      <td>77.957260</td>\n",
       "      <td>18743.687500</td>\n",
       "      <td>5.322514</td>\n",
       "      <td>3.625488</td>\n",
       "      <td>42.646095</td>\n",
       "      <td>43.582424</td>\n",
       "      <td>9.938086</td>\n",
       "      <td>0.124023</td>\n",
       "      <td>32.043064</td>\n",
       "      <td>63.259766</td>\n",
       "    </tr>\n",
       "    <tr>\n",
       "      <th>3</th>\n",
       "      <td>11478.726562</td>\n",
       "      <td>-145.561523</td>\n",
       "      <td>72.290688</td>\n",
       "      <td>17428.503906</td>\n",
       "      <td>6.037915</td>\n",
       "      <td>3.590332</td>\n",
       "      <td>42.380470</td>\n",
       "      <td>43.839748</td>\n",
       "      <td>9.975683</td>\n",
       "      <td>0.124102</td>\n",
       "      <td>31.496241</td>\n",
       "      <td>65.121094</td>\n",
       "    </tr>\n",
       "    <tr>\n",
       "      <th>4</th>\n",
       "      <td>11518.482422</td>\n",
       "      <td>-145.175781</td>\n",
       "      <td>72.255318</td>\n",
       "      <td>16420.748047</td>\n",
       "      <td>6.156987</td>\n",
       "      <td>3.558594</td>\n",
       "      <td>42.609573</td>\n",
       "      <td>43.771683</td>\n",
       "      <td>9.854004</td>\n",
       "      <td>0.124414</td>\n",
       "      <td>31.496241</td>\n",
       "      <td>62.156250</td>\n",
       "    </tr>\n",
       "  </tbody>\n",
       "</table>\n",
       "</div>"
      ],
      "text/plain": [
       "       LNG Flow  LNG Rundown Temperature  MR IGV Position     HMR Flow   \\\n",
       "0  12470.894531              -145.712891        77.762802  18679.066406   \n",
       "1  12109.980469              -145.844727        77.999893  18802.667969   \n",
       "2  12578.753906              -145.966797        77.957260  18743.687500   \n",
       "3  11478.726562              -145.561523        72.290688  17428.503906   \n",
       "4  11518.482422              -145.175781        72.255318  16420.748047   \n",
       "\n",
       "   HMR/MR Ratio  Percentage Nitrogen in MR  Percentage Methane in MR  \\\n",
       "0      5.310718                   3.646484                 42.500000   \n",
       "1      5.283063                   3.659180                 42.519924   \n",
       "2      5.322514                   3.625488                 42.646095   \n",
       "3      6.037915                   3.590332                 42.380470   \n",
       "4      6.156987                   3.558594                 42.609573   \n",
       "\n",
       "   Percentage Ethane in MR  Percentage Propane in MR  Percentage Butane in MR  \\\n",
       "0                43.532619                 10.102832                 0.125508   \n",
       "1                43.567482                 10.041308                 0.124922   \n",
       "2                43.582424                  9.938086                 0.124023   \n",
       "3                43.839748                  9.975683                 0.124102   \n",
       "4                43.771683                  9.854004                 0.124414   \n",
       "\n",
       "   Ambient Condition  Low Pressure Propane/Mixed Refrigerant kettle level  \n",
       "0          33.207268                                          62.857422    \n",
       "1          33.207268                                          62.437500    \n",
       "2          32.043064                                          63.259766    \n",
       "3          31.496241                                          65.121094    \n",
       "4          31.496241                                          62.156250    "
      ]
     },
     "execution_count": 5,
     "metadata": {},
     "output_type": "execute_result"
    }
   ],
   "source": [
    "df1 = df.loc[:, columns_to_use].copy()\n",
    "df1.head()"
   ]
  },
  {
   "cell_type": "code",
   "execution_count": 6,
   "id": "4b8c3bdc-e857-4400-b584-144caf13beba",
   "metadata": {},
   "outputs": [
    {
     "name": "stdout",
     "output_type": "stream",
     "text": [
      "Exported df1 successfully\n"
     ]
    }
   ],
   "source": [
    "df1.to_csv(\"data3.csv\")\n",
    "print(\"Exported df1 successfully\")"
   ]
  },
  {
   "cell_type": "code",
   "execution_count": 7,
   "id": "009dc3df-af19-473e-9c43-d62944292bfe",
   "metadata": {},
   "outputs": [
    {
     "data": {
      "text/html": [
       "<div>\n",
       "<style scoped>\n",
       "    .dataframe tbody tr th:only-of-type {\n",
       "        vertical-align: middle;\n",
       "    }\n",
       "\n",
       "    .dataframe tbody tr th {\n",
       "        vertical-align: top;\n",
       "    }\n",
       "\n",
       "    .dataframe thead th {\n",
       "        text-align: right;\n",
       "    }\n",
       "</style>\n",
       "<table border=\"1\" class=\"dataframe\">\n",
       "  <thead>\n",
       "    <tr style=\"text-align: right;\">\n",
       "      <th></th>\n",
       "      <th>LNG Flow</th>\n",
       "      <th>LNG Rundown Temperature</th>\n",
       "      <th>MR IGV Position</th>\n",
       "      <th>HMR Flow</th>\n",
       "      <th>HMR/MR Ratio</th>\n",
       "      <th>Percentage Nitrogen in MR</th>\n",
       "      <th>Percentage Methane in MR</th>\n",
       "      <th>Percentage Ethane in MR</th>\n",
       "      <th>Percentage Propane in MR</th>\n",
       "      <th>Percentage Butane in MR</th>\n",
       "      <th>Ambient Condition</th>\n",
       "      <th>Low Pressure Propane/Mixed Refrigerant kettle level</th>\n",
       "    </tr>\n",
       "  </thead>\n",
       "  <tbody>\n",
       "    <tr>\n",
       "      <th>0</th>\n",
       "      <td>12470.894531</td>\n",
       "      <td>-145.712891</td>\n",
       "      <td>77.762802</td>\n",
       "      <td>18679.066406</td>\n",
       "      <td>5.310718</td>\n",
       "      <td>3.646484</td>\n",
       "      <td>42.500000</td>\n",
       "      <td>43.532619</td>\n",
       "      <td>10.102832</td>\n",
       "      <td>0.125508</td>\n",
       "      <td>33.207268</td>\n",
       "      <td>62.857422</td>\n",
       "    </tr>\n",
       "    <tr>\n",
       "      <th>1</th>\n",
       "      <td>12109.980469</td>\n",
       "      <td>-145.844727</td>\n",
       "      <td>77.999893</td>\n",
       "      <td>18802.667969</td>\n",
       "      <td>5.283063</td>\n",
       "      <td>3.659180</td>\n",
       "      <td>42.519924</td>\n",
       "      <td>43.567482</td>\n",
       "      <td>10.041308</td>\n",
       "      <td>0.124922</td>\n",
       "      <td>33.207268</td>\n",
       "      <td>62.437500</td>\n",
       "    </tr>\n",
       "    <tr>\n",
       "      <th>2</th>\n",
       "      <td>12578.753906</td>\n",
       "      <td>-145.966797</td>\n",
       "      <td>77.957260</td>\n",
       "      <td>18743.687500</td>\n",
       "      <td>5.322514</td>\n",
       "      <td>3.625488</td>\n",
       "      <td>42.646095</td>\n",
       "      <td>43.582424</td>\n",
       "      <td>9.938086</td>\n",
       "      <td>0.124023</td>\n",
       "      <td>32.043064</td>\n",
       "      <td>63.259766</td>\n",
       "    </tr>\n",
       "    <tr>\n",
       "      <th>3</th>\n",
       "      <td>11478.726562</td>\n",
       "      <td>-145.561523</td>\n",
       "      <td>72.290688</td>\n",
       "      <td>17428.503906</td>\n",
       "      <td>6.037915</td>\n",
       "      <td>3.590332</td>\n",
       "      <td>42.380470</td>\n",
       "      <td>43.839748</td>\n",
       "      <td>9.975683</td>\n",
       "      <td>0.124102</td>\n",
       "      <td>31.496241</td>\n",
       "      <td>65.121094</td>\n",
       "    </tr>\n",
       "    <tr>\n",
       "      <th>4</th>\n",
       "      <td>11518.482422</td>\n",
       "      <td>-145.175781</td>\n",
       "      <td>72.255318</td>\n",
       "      <td>16420.748047</td>\n",
       "      <td>6.156987</td>\n",
       "      <td>3.558594</td>\n",
       "      <td>42.609573</td>\n",
       "      <td>43.771683</td>\n",
       "      <td>9.854004</td>\n",
       "      <td>0.124414</td>\n",
       "      <td>31.496241</td>\n",
       "      <td>62.156250</td>\n",
       "    </tr>\n",
       "    <tr>\n",
       "      <th>5</th>\n",
       "      <td>11785.019531</td>\n",
       "      <td>-146.176758</td>\n",
       "      <td>75.999893</td>\n",
       "      <td>18631.525391</td>\n",
       "      <td>5.313677</td>\n",
       "      <td>3.617188</td>\n",
       "      <td>42.730762</td>\n",
       "      <td>43.580765</td>\n",
       "      <td>9.858788</td>\n",
       "      <td>0.128008</td>\n",
       "      <td>31.496241</td>\n",
       "      <td>58.093750</td>\n",
       "    </tr>\n",
       "    <tr>\n",
       "      <th>6</th>\n",
       "      <td>11912.583984</td>\n",
       "      <td>-146.694336</td>\n",
       "      <td>77.086159</td>\n",
       "      <td>17979.867188</td>\n",
       "      <td>5.253815</td>\n",
       "      <td>3.439941</td>\n",
       "      <td>42.270901</td>\n",
       "      <td>44.206642</td>\n",
       "      <td>9.869726</td>\n",
       "      <td>0.122266</td>\n",
       "      <td>31.496241</td>\n",
       "      <td>61.101562</td>\n",
       "    </tr>\n",
       "    <tr>\n",
       "      <th>7</th>\n",
       "      <td>12021.826172</td>\n",
       "      <td>-146.899414</td>\n",
       "      <td>73.999893</td>\n",
       "      <td>18722.001953</td>\n",
       "      <td>5.278831</td>\n",
       "      <td>3.479004</td>\n",
       "      <td>42.528225</td>\n",
       "      <td>43.768360</td>\n",
       "      <td>10.011230</td>\n",
       "      <td>0.123164</td>\n",
       "      <td>30.949419</td>\n",
       "      <td>61.095703</td>\n",
       "    </tr>\n",
       "    <tr>\n",
       "      <th>8</th>\n",
       "      <td>12188.800781</td>\n",
       "      <td>-146.782227</td>\n",
       "      <td>72.028290</td>\n",
       "      <td>19286.933594</td>\n",
       "      <td>5.307084</td>\n",
       "      <td>3.486816</td>\n",
       "      <td>42.674316</td>\n",
       "      <td>43.703613</td>\n",
       "      <td>9.933984</td>\n",
       "      <td>0.118789</td>\n",
       "      <td>30.949419</td>\n",
       "      <td>60.988281</td>\n",
       "    </tr>\n",
       "    <tr>\n",
       "      <th>9</th>\n",
       "      <td>12176.355469</td>\n",
       "      <td>-146.918945</td>\n",
       "      <td>72.028290</td>\n",
       "      <td>19251.404297</td>\n",
       "      <td>5.310825</td>\n",
       "      <td>3.507812</td>\n",
       "      <td>42.878517</td>\n",
       "      <td>43.594044</td>\n",
       "      <td>9.823926</td>\n",
       "      <td>0.111406</td>\n",
       "      <td>30.949419</td>\n",
       "      <td>61.931641</td>\n",
       "    </tr>\n",
       "  </tbody>\n",
       "</table>\n",
       "</div>"
      ],
      "text/plain": [
       "       LNG Flow  LNG Rundown Temperature  MR IGV Position     HMR Flow   \\\n",
       "0  12470.894531              -145.712891        77.762802  18679.066406   \n",
       "1  12109.980469              -145.844727        77.999893  18802.667969   \n",
       "2  12578.753906              -145.966797        77.957260  18743.687500   \n",
       "3  11478.726562              -145.561523        72.290688  17428.503906   \n",
       "4  11518.482422              -145.175781        72.255318  16420.748047   \n",
       "5  11785.019531              -146.176758        75.999893  18631.525391   \n",
       "6  11912.583984              -146.694336        77.086159  17979.867188   \n",
       "7  12021.826172              -146.899414        73.999893  18722.001953   \n",
       "8  12188.800781              -146.782227        72.028290  19286.933594   \n",
       "9  12176.355469              -146.918945        72.028290  19251.404297   \n",
       "\n",
       "   HMR/MR Ratio  Percentage Nitrogen in MR  Percentage Methane in MR  \\\n",
       "0      5.310718                   3.646484                 42.500000   \n",
       "1      5.283063                   3.659180                 42.519924   \n",
       "2      5.322514                   3.625488                 42.646095   \n",
       "3      6.037915                   3.590332                 42.380470   \n",
       "4      6.156987                   3.558594                 42.609573   \n",
       "5      5.313677                   3.617188                 42.730762   \n",
       "6      5.253815                   3.439941                 42.270901   \n",
       "7      5.278831                   3.479004                 42.528225   \n",
       "8      5.307084                   3.486816                 42.674316   \n",
       "9      5.310825                   3.507812                 42.878517   \n",
       "\n",
       "   Percentage Ethane in MR  Percentage Propane in MR  Percentage Butane in MR  \\\n",
       "0                43.532619                 10.102832                 0.125508   \n",
       "1                43.567482                 10.041308                 0.124922   \n",
       "2                43.582424                  9.938086                 0.124023   \n",
       "3                43.839748                  9.975683                 0.124102   \n",
       "4                43.771683                  9.854004                 0.124414   \n",
       "5                43.580765                  9.858788                 0.128008   \n",
       "6                44.206642                  9.869726                 0.122266   \n",
       "7                43.768360                 10.011230                 0.123164   \n",
       "8                43.703613                  9.933984                 0.118789   \n",
       "9                43.594044                  9.823926                 0.111406   \n",
       "\n",
       "   Ambient Condition  Low Pressure Propane/Mixed Refrigerant kettle level  \n",
       "0          33.207268                                          62.857422    \n",
       "1          33.207268                                          62.437500    \n",
       "2          32.043064                                          63.259766    \n",
       "3          31.496241                                          65.121094    \n",
       "4          31.496241                                          62.156250    \n",
       "5          31.496241                                          58.093750    \n",
       "6          31.496241                                          61.101562    \n",
       "7          30.949419                                          61.095703    \n",
       "8          30.949419                                          60.988281    \n",
       "9          30.949419                                          61.931641    "
      ]
     },
     "execution_count": 7,
     "metadata": {},
     "output_type": "execute_result"
    }
   ],
   "source": [
    "df1 = pd.read_csv(\"data3.csv\")\n",
    "df1.drop('Unnamed: 0', axis= 1, inplace=True)\n",
    "df1.head(10)"
   ]
  },
  {
   "cell_type": "code",
   "execution_count": 8,
   "id": "dce3f645-6d5a-4814-bd91-05515b1eb302",
   "metadata": {},
   "outputs": [],
   "source": [
    "from numpy import absolute, mean, std\n",
    "\n",
    "# import estimators\n",
    "from sklearn.linear_model import LinearRegression\n",
    "from sklearn.neighbors import KNeighborsRegressor\n",
    "from sklearn.tree import DecisionTreeRegressor\n",
    "from sklearn.ensemble import RandomForestRegressor\n",
    "\n",
    "# for optimization\n",
    "from sklearn.model_selection import cross_val_score\n",
    "from sklearn.model_selection import RepeatedKFold, KFold\n",
    "from sklearn.multioutput import RegressorChain\n",
    "\n",
    "# pipeline for preprocessing\n",
    "from sklearn.pipeline import Pipeline\n",
    "from sklearn.preprocessing import StandardScaler, MinMaxScaler, PowerTransformer, MaxAbsScaler\n",
    "\n",
    "# Metrics\n",
    "from sklearn.metrics import mean_squared_error, r2_score\n",
    "\n",
    "from sklearn.model_selection import train_test_split"
   ]
  },
  {
   "cell_type": "code",
   "execution_count": 9,
   "id": "a167b4a5-4d34-4e6c-b56a-d93027c101f1",
   "metadata": {},
   "outputs": [],
   "source": [
    "df1_input = df1.iloc[:, 2:].copy()\n",
    "df1_target = df1.iloc[:, [0, 1]].copy()"
   ]
  },
  {
   "cell_type": "code",
   "execution_count": 10,
   "id": "4c2698e2-063a-4731-ae83-a64690ab2a74",
   "metadata": {},
   "outputs": [],
   "source": [
    "X_train, X_test, y_train, y_test = train_test_split(df1_input, df1_target, test_size = 0.25, random_state= 10)"
   ]
  },
  {
   "cell_type": "code",
   "execution_count": 11,
   "id": "03d9e4a2",
   "metadata": {},
   "outputs": [],
   "source": [
    "pd.concat([y_test, X_test], axis=1).to_csv(\"inputs.csv\")"
   ]
  },
  {
   "cell_type": "markdown",
   "id": "4530cb8b-1781-485b-9806-d45c86547a4f",
   "metadata": {
    "tags": []
   },
   "source": [
    "## Develop Model"
   ]
  },
  {
   "cell_type": "code",
   "execution_count": 12,
   "id": "3a7a1045-4ac9-4f54-92d1-8537f37da36f",
   "metadata": {},
   "outputs": [],
   "source": [
    "# prepare a dictionary of estimators\n",
    "ESTIMATORS = {\n",
    "    \"Linear Regression\": LinearRegression(),\n",
    "    \"K-neighbors\": KNeighborsRegressor(),\n",
    "    \"Decision Tree\": DecisionTreeRegressor(),\n",
    "    \"Random Forest\": RandomForestRegressor(max_depth=2, random_state=0),\n",
    "}"
   ]
  },
  {
   "cell_type": "code",
   "execution_count": 13,
   "id": "2224e1ef-dcb7-469e-8883-ad5cb08915cb",
   "metadata": {},
   "outputs": [],
   "source": [
    "def pipe_reg_multi(estimators, X, y, X_test, y_test):\n",
    "    # Create an empty dictionary to collect prediction values\n",
    "    y_test_predict = dict()\n",
    "    y_error = dict()\n",
    "    \n",
    "    for name, estimator in estimators.items():\n",
    "        cv = RepeatedKFold(n_splits=10, n_repeats=3, random_state=1)\n",
    "        \n",
    "        wrapper = RegressorChain(estimator, order=[0, 1])\n",
    "        \n",
    "        pipe = Pipeline(\n",
    "            [('scalar', StandardScaler()),\n",
    "            ('regressor', wrapper)]\n",
    "        )\n",
    "        \n",
    "        # evaluate the model and collect the scores\n",
    "        n_scores = cross_val_score(pipe, X, y, scoring='neg_mean_absolute_error', cv=cv, n_jobs=-1)\n",
    "        \n",
    "        # force the scores to be positive\n",
    "        n_scores = absolute(n_scores)\n",
    "        # summarize performance\n",
    "        print(f'{name}-->MAE: {mean(n_scores):.4f}, {std(n_scores):.4f}', end = \" \")\n",
    "        \n",
    "        # fit model\n",
    "        pipe.fit(X, y)\n",
    "        \n",
    "        # predict\n",
    "        y_test_predict[name] = pipe.predict(X_test)\n",
    "        print(f\", R2-score = {r2_score(y_test, y_test_predict[name]):.4f}\")\n",
    "        \n",
    "        # calculate mse\n",
    "        y_error[name] = mean_squared_error(y_test, y_test_predict[name], squared= False)\n",
    "        print(f\", MSE = {y_error[name]:.4f}\")\n",
    "        \n",
    "    return y_test_predict, y_error"
   ]
  },
  {
   "cell_type": "code",
   "execution_count": 14,
   "id": "40f63be7-72df-4756-b594-f2b801e7aeb2",
   "metadata": {},
   "outputs": [
    {
     "name": "stdout",
     "output_type": "stream",
     "text": [
      "Linear Regression-->MAE: 224.5993, 4.3854 , R2-score = 0.8644\n",
      ", MSE = 315.4568\n",
      "K-neighbors-->MAE: 87.4067, 2.8391 , R2-score = 0.9783\n",
      ", MSE = 152.7402\n",
      "Decision Tree-->MAE: 108.1971, 3.3340 , R2-score = 0.9722\n",
      ", MSE = 205.9863\n",
      "Random Forest-->MAE: 308.0645, 5.0757 , R2-score = 0.8588\n",
      ", MSE = 417.6720\n"
     ]
    }
   ],
   "source": [
    "y_test_predict, y_error = pipe_reg_multi(ESTIMATORS, X_train, y_train, X_test, y_test)"
   ]
  },
  {
   "cell_type": "markdown",
   "id": "b0ac799b-43e0-4a31-bf59-ed9c99f94513",
   "metadata": {},
   "source": [
    "|Algorithm|R2-score|RMSE\n",
    "|------|------|------|\n",
    "|Linear Regressor|0.8644|315.4568|\n",
    "|K-neighbors|0.9783|152.7402|\n",
    "|Decision Tree|0.9725|203.3375|\n",
    "|Random Forest|0.8588|417.6720|"
   ]
  },
  {
   "cell_type": "markdown",
   "id": "def64dc5-71fd-44f0-94a4-8079f79679b9",
   "metadata": {},
   "source": [
    "From the table above, Since K-Neighbours has the snallest Root mean square error; We wil be choosing K-neighbour regressor as our preferred algorithm for this problem"
   ]
  },
  {
   "cell_type": "code",
   "execution_count": 15,
   "id": "b28a38ac-484e-40ad-9854-19b63ebc2137",
   "metadata": {},
   "outputs": [],
   "source": [
    "pipe = Pipeline(\n",
    "            [('scalar', StandardScaler()),\n",
    "            ('regressor', RegressorChain(KNeighborsRegressor(), order=[0, 1]))]\n",
    "        )"
   ]
  },
  {
   "cell_type": "code",
   "execution_count": 16,
   "id": "e222a5b9-9b6a-4772-8f9b-b8b4813038e9",
   "metadata": {},
   "outputs": [
    {
     "data": {
      "text/html": [
       "<style>#sk-container-id-1 {color: black;background-color: white;}#sk-container-id-1 pre{padding: 0;}#sk-container-id-1 div.sk-toggleable {background-color: white;}#sk-container-id-1 label.sk-toggleable__label {cursor: pointer;display: block;width: 100%;margin-bottom: 0;padding: 0.3em;box-sizing: border-box;text-align: center;}#sk-container-id-1 label.sk-toggleable__label-arrow:before {content: \"▸\";float: left;margin-right: 0.25em;color: #696969;}#sk-container-id-1 label.sk-toggleable__label-arrow:hover:before {color: black;}#sk-container-id-1 div.sk-estimator:hover label.sk-toggleable__label-arrow:before {color: black;}#sk-container-id-1 div.sk-toggleable__content {max-height: 0;max-width: 0;overflow: hidden;text-align: left;background-color: #f0f8ff;}#sk-container-id-1 div.sk-toggleable__content pre {margin: 0.2em;color: black;border-radius: 0.25em;background-color: #f0f8ff;}#sk-container-id-1 input.sk-toggleable__control:checked~div.sk-toggleable__content {max-height: 200px;max-width: 100%;overflow: auto;}#sk-container-id-1 input.sk-toggleable__control:checked~label.sk-toggleable__label-arrow:before {content: \"▾\";}#sk-container-id-1 div.sk-estimator input.sk-toggleable__control:checked~label.sk-toggleable__label {background-color: #d4ebff;}#sk-container-id-1 div.sk-label input.sk-toggleable__control:checked~label.sk-toggleable__label {background-color: #d4ebff;}#sk-container-id-1 input.sk-hidden--visually {border: 0;clip: rect(1px 1px 1px 1px);clip: rect(1px, 1px, 1px, 1px);height: 1px;margin: -1px;overflow: hidden;padding: 0;position: absolute;width: 1px;}#sk-container-id-1 div.sk-estimator {font-family: monospace;background-color: #f0f8ff;border: 1px dotted black;border-radius: 0.25em;box-sizing: border-box;margin-bottom: 0.5em;}#sk-container-id-1 div.sk-estimator:hover {background-color: #d4ebff;}#sk-container-id-1 div.sk-parallel-item::after {content: \"\";width: 100%;border-bottom: 1px solid gray;flex-grow: 1;}#sk-container-id-1 div.sk-label:hover label.sk-toggleable__label {background-color: #d4ebff;}#sk-container-id-1 div.sk-serial::before {content: \"\";position: absolute;border-left: 1px solid gray;box-sizing: border-box;top: 0;bottom: 0;left: 50%;z-index: 0;}#sk-container-id-1 div.sk-serial {display: flex;flex-direction: column;align-items: center;background-color: white;padding-right: 0.2em;padding-left: 0.2em;position: relative;}#sk-container-id-1 div.sk-item {position: relative;z-index: 1;}#sk-container-id-1 div.sk-parallel {display: flex;align-items: stretch;justify-content: center;background-color: white;position: relative;}#sk-container-id-1 div.sk-item::before, #sk-container-id-1 div.sk-parallel-item::before {content: \"\";position: absolute;border-left: 1px solid gray;box-sizing: border-box;top: 0;bottom: 0;left: 50%;z-index: -1;}#sk-container-id-1 div.sk-parallel-item {display: flex;flex-direction: column;z-index: 1;position: relative;background-color: white;}#sk-container-id-1 div.sk-parallel-item:first-child::after {align-self: flex-end;width: 50%;}#sk-container-id-1 div.sk-parallel-item:last-child::after {align-self: flex-start;width: 50%;}#sk-container-id-1 div.sk-parallel-item:only-child::after {width: 0;}#sk-container-id-1 div.sk-dashed-wrapped {border: 1px dashed gray;margin: 0 0.4em 0.5em 0.4em;box-sizing: border-box;padding-bottom: 0.4em;background-color: white;}#sk-container-id-1 div.sk-label label {font-family: monospace;font-weight: bold;display: inline-block;line-height: 1.2em;}#sk-container-id-1 div.sk-label-container {text-align: center;}#sk-container-id-1 div.sk-container {/* jupyter's `normalize.less` sets `[hidden] { display: none; }` but bootstrap.min.css set `[hidden] { display: none !important; }` so we also need the `!important` here to be able to override the default hidden behavior on the sphinx rendered scikit-learn.org. See: https://github.com/scikit-learn/scikit-learn/issues/21755 */display: inline-block !important;position: relative;}#sk-container-id-1 div.sk-text-repr-fallback {display: none;}</style><div id=\"sk-container-id-1\" class=\"sk-top-container\"><div class=\"sk-text-repr-fallback\"><pre>Pipeline(steps=[(&#x27;scalar&#x27;, StandardScaler()),\n",
       "                (&#x27;regressor&#x27;,\n",
       "                 RegressorChain(base_estimator=KNeighborsRegressor(),\n",
       "                                order=[0, 1]))])</pre><b>In a Jupyter environment, please rerun this cell to show the HTML representation or trust the notebook. <br />On GitHub, the HTML representation is unable to render, please try loading this page with nbviewer.org.</b></div><div class=\"sk-container\" hidden><div class=\"sk-item sk-dashed-wrapped\"><div class=\"sk-label-container\"><div class=\"sk-label sk-toggleable\"><input class=\"sk-toggleable__control sk-hidden--visually\" id=\"sk-estimator-id-1\" type=\"checkbox\" ><label for=\"sk-estimator-id-1\" class=\"sk-toggleable__label sk-toggleable__label-arrow\">Pipeline</label><div class=\"sk-toggleable__content\"><pre>Pipeline(steps=[(&#x27;scalar&#x27;, StandardScaler()),\n",
       "                (&#x27;regressor&#x27;,\n",
       "                 RegressorChain(base_estimator=KNeighborsRegressor(),\n",
       "                                order=[0, 1]))])</pre></div></div></div><div class=\"sk-serial\"><div class=\"sk-item\"><div class=\"sk-estimator sk-toggleable\"><input class=\"sk-toggleable__control sk-hidden--visually\" id=\"sk-estimator-id-2\" type=\"checkbox\" ><label for=\"sk-estimator-id-2\" class=\"sk-toggleable__label sk-toggleable__label-arrow\">StandardScaler</label><div class=\"sk-toggleable__content\"><pre>StandardScaler()</pre></div></div></div><div class=\"sk-item sk-dashed-wrapped\"><div class=\"sk-label-container\"><div class=\"sk-label sk-toggleable\"><input class=\"sk-toggleable__control sk-hidden--visually\" id=\"sk-estimator-id-3\" type=\"checkbox\" ><label for=\"sk-estimator-id-3\" class=\"sk-toggleable__label sk-toggleable__label-arrow\">regressor: RegressorChain</label><div class=\"sk-toggleable__content\"><pre>RegressorChain(base_estimator=KNeighborsRegressor(), order=[0, 1])</pre></div></div></div><div class=\"sk-parallel\"><div class=\"sk-parallel-item\"><div class=\"sk-item\"><div class=\"sk-label-container\"><div class=\"sk-label sk-toggleable\"><input class=\"sk-toggleable__control sk-hidden--visually\" id=\"sk-estimator-id-4\" type=\"checkbox\" ><label for=\"sk-estimator-id-4\" class=\"sk-toggleable__label sk-toggleable__label-arrow\">base_estimator: KNeighborsRegressor</label><div class=\"sk-toggleable__content\"><pre>KNeighborsRegressor()</pre></div></div></div><div class=\"sk-serial\"><div class=\"sk-item\"><div class=\"sk-estimator sk-toggleable\"><input class=\"sk-toggleable__control sk-hidden--visually\" id=\"sk-estimator-id-5\" type=\"checkbox\" ><label for=\"sk-estimator-id-5\" class=\"sk-toggleable__label sk-toggleable__label-arrow\">KNeighborsRegressor</label><div class=\"sk-toggleable__content\"><pre>KNeighborsRegressor()</pre></div></div></div></div></div></div></div></div></div></div></div></div>"
      ],
      "text/plain": [
       "Pipeline(steps=[('scalar', StandardScaler()),\n",
       "                ('regressor',\n",
       "                 RegressorChain(base_estimator=KNeighborsRegressor(),\n",
       "                                order=[0, 1]))])"
      ]
     },
     "execution_count": 16,
     "metadata": {},
     "output_type": "execute_result"
    }
   ],
   "source": [
    "pipe.fit(X_train, y_train)"
   ]
  },
  {
   "cell_type": "code",
   "execution_count": 17,
   "id": "5c66e2c4-bb73-4f4c-9829-0c9af1bc141e",
   "metadata": {},
   "outputs": [],
   "source": [
    "yhat = pipe.predict(X_test)"
   ]
  },
  {
   "cell_type": "code",
   "execution_count": 18,
   "id": "aa846f34-3818-46c0-a2d1-10648261ec04",
   "metadata": {},
   "outputs": [
    {
     "data": {
      "text/plain": [
       "((8006, 2), (8006, 2))"
      ]
     },
     "execution_count": 18,
     "metadata": {},
     "output_type": "execute_result"
    }
   ],
   "source": [
    "yhat.shape, y_test.shape"
   ]
  },
  {
   "cell_type": "code",
   "execution_count": 19,
   "id": "64b312b2-b4a5-4fcd-913b-4025072ce658",
   "metadata": {},
   "outputs": [
    {
     "data": {
      "text/plain": [
       "152.7401679467612"
      ]
     },
     "execution_count": 19,
     "metadata": {},
     "output_type": "execute_result"
    }
   ],
   "source": [
    "mean_squared_error(y_test, yhat, squared= False)"
   ]
  },
  {
   "cell_type": "code",
   "execution_count": 20,
   "id": "20c4ce79-a627-4668-943f-6a6b2fc51db8",
   "metadata": {},
   "outputs": [
    {
     "data": {
      "text/plain": [
       "302.01741745608524"
      ]
     },
     "execution_count": 20,
     "metadata": {},
     "output_type": "execute_result"
    }
   ],
   "source": [
    "mean_squared_error(y_test.iloc[:, 0], yhat[:, 0], squared= False)"
   ]
  },
  {
   "cell_type": "code",
   "execution_count": 21,
   "id": "9b829f4f-13a4-4cb5-bb58-b310aea461e0",
   "metadata": {},
   "outputs": [
    {
     "data": {
      "text/plain": [
       "3.4629184374371413"
      ]
     },
     "execution_count": 21,
     "metadata": {},
     "output_type": "execute_result"
    }
   ],
   "source": [
    "mean_squared_error(y_test.iloc[:, 1], yhat[:, 1], squared= False)"
   ]
  },
  {
   "cell_type": "code",
   "execution_count": 22,
   "id": "6849fb38-2627-44a5-beb7-badc4895eaae",
   "metadata": {},
   "outputs": [
    {
     "data": {
      "text/html": [
       "<div>\n",
       "<style scoped>\n",
       "    .dataframe tbody tr th:only-of-type {\n",
       "        vertical-align: middle;\n",
       "    }\n",
       "\n",
       "    .dataframe tbody tr th {\n",
       "        vertical-align: top;\n",
       "    }\n",
       "\n",
       "    .dataframe thead th {\n",
       "        text-align: right;\n",
       "    }\n",
       "</style>\n",
       "<table border=\"1\" class=\"dataframe\">\n",
       "  <thead>\n",
       "    <tr style=\"text-align: right;\">\n",
       "      <th></th>\n",
       "      <th>predicted lng flow</th>\n",
       "      <th>predicted LNG Rundown Temperature</th>\n",
       "    </tr>\n",
       "  </thead>\n",
       "  <tbody>\n",
       "    <tr>\n",
       "      <th>0</th>\n",
       "      <td>13363.826953</td>\n",
       "      <td>-146.179688</td>\n",
       "    </tr>\n",
       "    <tr>\n",
       "      <th>1</th>\n",
       "      <td>12060.130078</td>\n",
       "      <td>-145.521484</td>\n",
       "    </tr>\n",
       "    <tr>\n",
       "      <th>2</th>\n",
       "      <td>13391.834180</td>\n",
       "      <td>-145.701172</td>\n",
       "    </tr>\n",
       "    <tr>\n",
       "      <th>3</th>\n",
       "      <td>12811.619531</td>\n",
       "      <td>-145.620117</td>\n",
       "    </tr>\n",
       "    <tr>\n",
       "      <th>4</th>\n",
       "      <td>11980.771289</td>\n",
       "      <td>-145.903320</td>\n",
       "    </tr>\n",
       "  </tbody>\n",
       "</table>\n",
       "</div>"
      ],
      "text/plain": [
       "   predicted lng flow  predicted LNG Rundown Temperature\n",
       "0        13363.826953                        -146.179688\n",
       "1        12060.130078                        -145.521484\n",
       "2        13391.834180                        -145.701172\n",
       "3        12811.619531                        -145.620117\n",
       "4        11980.771289                        -145.903320"
      ]
     },
     "execution_count": 22,
     "metadata": {},
     "output_type": "execute_result"
    }
   ],
   "source": [
    "pd.DataFrame(yhat, columns=['predicted lng flow', 'predicted LNG Rundown Temperature']).head()"
   ]
  },
  {
   "cell_type": "code",
   "execution_count": 23,
   "id": "ad11f128-5d95-4b3f-a62b-8b646735de3a",
   "metadata": {},
   "outputs": [
    {
     "data": {
      "text/html": [
       "<div>\n",
       "<style scoped>\n",
       "    .dataframe tbody tr th:only-of-type {\n",
       "        vertical-align: middle;\n",
       "    }\n",
       "\n",
       "    .dataframe tbody tr th {\n",
       "        vertical-align: top;\n",
       "    }\n",
       "\n",
       "    .dataframe thead th {\n",
       "        text-align: right;\n",
       "    }\n",
       "</style>\n",
       "<table border=\"1\" class=\"dataframe\">\n",
       "  <thead>\n",
       "    <tr style=\"text-align: right;\">\n",
       "      <th></th>\n",
       "      <th>LNG Flow</th>\n",
       "      <th>LNG Rundown Temperature</th>\n",
       "    </tr>\n",
       "  </thead>\n",
       "  <tbody>\n",
       "    <tr>\n",
       "      <th>18778</th>\n",
       "      <td>13575.379883</td>\n",
       "      <td>-145.473633</td>\n",
       "    </tr>\n",
       "    <tr>\n",
       "      <th>10519</th>\n",
       "      <td>11672.666016</td>\n",
       "      <td>-145.039062</td>\n",
       "    </tr>\n",
       "    <tr>\n",
       "      <th>31757</th>\n",
       "      <td>13388.155273</td>\n",
       "      <td>-145.786133</td>\n",
       "    </tr>\n",
       "    <tr>\n",
       "      <th>6400</th>\n",
       "      <td>12687.996094</td>\n",
       "      <td>-145.610352</td>\n",
       "    </tr>\n",
       "    <tr>\n",
       "      <th>17354</th>\n",
       "      <td>11994.082031</td>\n",
       "      <td>-145.502930</td>\n",
       "    </tr>\n",
       "  </tbody>\n",
       "</table>\n",
       "</div>"
      ],
      "text/plain": [
       "           LNG Flow  LNG Rundown Temperature\n",
       "18778  13575.379883              -145.473633\n",
       "10519  11672.666016              -145.039062\n",
       "31757  13388.155273              -145.786133\n",
       "6400   12687.996094              -145.610352\n",
       "17354  11994.082031              -145.502930"
      ]
     },
     "execution_count": 23,
     "metadata": {},
     "output_type": "execute_result"
    }
   ],
   "source": [
    "y_test.head()"
   ]
  },
  {
   "cell_type": "markdown",
   "id": "09b6def7-6b93-4766-b2cf-1e90d7737838",
   "metadata": {},
   "source": [
    "#### visualize the performance of the pipe"
   ]
  },
  {
   "cell_type": "code",
   "execution_count": 24,
   "id": "742b18a8-83f1-4533-b574-c3ee9ece20b9",
   "metadata": {},
   "outputs": [],
   "source": [
    "import seaborn as sns\n",
    "import matplotlib.pyplot as plt"
   ]
  },
  {
   "cell_type": "code",
   "execution_count": 25,
   "id": "bf91b582-7320-438b-84bb-dbbce7d6574d",
   "metadata": {},
   "outputs": [
    {
     "data": {
      "image/png": "[encoded data removed]",
      "text/plain": [
       "<Figure size 864x504 with 1 Axes>"
      ]
     },
     "metadata": {
      "needs_background": "light"
     },
     "output_type": "display_data"
    }
   ],
   "source": [
    "plt.figure(figsize=(12,7))\n",
    "sns.regplot(x=yhat[:, 0], y=y_test.iloc[:, 0], line_kws={'color':'red'})\n",
    "plt.xlabel(\"predicted lng flow\")\n",
    "plt.ylabel(\"actual lng flow\")\n",
    "plt.grid()\n",
    "plt.savefig(\"lng pred\")"
   ]
  },
  {
   "cell_type": "code",
   "execution_count": 26,
   "id": "f84ee14f-6cee-4d3f-9c57-9a4124226e6e",
   "metadata": {},
   "outputs": [
    {
     "data": {
      "image/png": "[encoded data removed]",
      "text/plain": [
       "<Figure size 864x504 with 1 Axes>"
      ]
     },
     "metadata": {
      "needs_background": "light"
     },
     "output_type": "display_data"
    }
   ],
   "source": [
    "plt.figure(figsize=(12,7))\n",
    "sns.regplot(x=yhat[:, 1], y=y_test.iloc[:, 1], line_kws={'color':'red'})\n",
    "plt.xlabel(\"predicted LNG Rundown Temperature\")\n",
    "plt.ylabel(\"actual LNG Rundown Temperature\")\n",
    "plt.grid()\n",
    "plt.savefig(\"temp pred\")"
   ]
  },
  {
   "cell_type": "markdown",
   "id": "7be0c467-3f1b-476f-b362-e84c4283af28",
   "metadata": {
    "tags": []
   },
   "source": [
    "### Hyper parameter Tuning"
   ]
  },
  {
   "cell_type": "code",
   "execution_count": 27,
   "id": "b6999190-23a3-4eef-abfb-5afca5ebf588",
   "metadata": {},
   "outputs": [],
   "source": [
    "from sklearn.model_selection import GridSearchCV\n",
    "from sklearn.model_selection import RandomizedSearchCV\n",
    "from sklearn.model_selection import RepeatedStratifiedKFold\n"
   ]
  },
  {
   "cell_type": "code",
   "execution_count": 28,
   "id": "4b6157e7-2262-4381-9ce4-f7a03a628793",
   "metadata": {},
   "outputs": [],
   "source": [
    "cv = KFold(n_splits=5, shuffle=True, random_state=42) "
   ]
  },
  {
   "cell_type": "markdown",
   "id": "ba2328ad-2139-45aa-8f47-284f06dd760c",
   "metadata": {},
   "source": [
    "Hyper parameters to search for:"
   ]
  },
  {
   "cell_type": "code",
   "execution_count": 29,
   "id": "80d7c321-932b-421c-ae90-acae34c49917",
   "metadata": {},
   "outputs": [],
   "source": [
    "space = dict()\n",
    "space['n_neighbors'] = [i for i in range(2, 20)]\n",
    "space['weights'] = ['uniform', 'distance']\n",
    "#space['algorithm'] = ['auto', 'ball_tree', 'kd_tree', 'brute']\n",
    "space['p'] = [1, 2, 5]"
   ]
  },
  {
   "cell_type": "markdown",
   "id": "750ce620-3f5f-4489-a24a-1db8e2f090d8",
   "metadata": {},
   "source": [
    "search:"
   ]
  },
  {
   "cell_type": "code",
   "execution_count": 30,
   "id": "97d60ede-8a2f-4ce6-bdb6-77f948d747e0",
   "metadata": {},
   "outputs": [],
   "source": [
    "# define search\n",
    "search = GridSearchCV(KNeighborsRegressor(), space, scoring='neg_root_mean_squared_error', n_jobs=-1, cv=cv)\n"
   ]
  },
  {
   "cell_type": "code",
   "execution_count": 31,
   "id": "08848a62-f9e3-44e6-8045-254003113317",
   "metadata": {},
   "outputs": [],
   "source": [
    "X_t, y_t = np.array(X_train), np.array(y_train)"
   ]
  },
  {
   "cell_type": "code",
   "execution_count": 32,
   "id": "47a27481-2e33-4325-9a99-d1d9723e16c8",
   "metadata": {},
   "outputs": [],
   "source": [
    "# execute search\n",
    "result = search.fit(X_t, y_t[:, 0])"
   ]
  },
  {
   "cell_type": "code",
   "execution_count": 33,
   "id": "08963b47-486f-496d-b13f-03f4341f3912",
   "metadata": {},
   "outputs": [
    {
     "name": "stdout",
     "output_type": "stream",
     "text": [
      "Best Score: -447.71178828314316\n",
      "Best Hyperparameters: {'n_neighbors': 9, 'p': 1, 'weights': 'distance'}\n"
     ]
    }
   ],
   "source": [
    "# summarize result\n",
    "print('Best Score: %s' % result.best_score_)\n",
    "print('Best Hyperparameters: %s' % result.best_params_)"
   ]
  },
  {
   "cell_type": "code",
   "execution_count": 34,
   "id": "2c866a5a-65de-4cf6-8858-f1844232eed8",
   "metadata": {},
   "outputs": [],
   "source": [
    "pipe = Pipeline(\n",
    "            [('scalar', StandardScaler()),\n",
    "            ('regressor', RegressorChain(KNeighborsRegressor(n_neighbors= 9, weights = 'distance', p = 1), order=[0, 1]))]\n",
    "        )"
   ]
  },
  {
   "cell_type": "code",
   "execution_count": 35,
   "id": "5c6f02ec-e7a0-444c-baa2-097e40e3a0b8",
   "metadata": {},
   "outputs": [
    {
     "data": {
      "text/html": [
       "<style>#sk-container-id-2 {color: black;background-color: white;}#sk-container-id-2 pre{padding: 0;}#sk-container-id-2 div.sk-toggleable {background-color: white;}#sk-container-id-2 label.sk-toggleable__label {cursor: pointer;display: block;width: 100%;margin-bottom: 0;padding: 0.3em;box-sizing: border-box;text-align: center;}#sk-container-id-2 label.sk-toggleable__label-arrow:before {content: \"▸\";float: left;margin-right: 0.25em;color: #696969;}#sk-container-id-2 label.sk-toggleable__label-arrow:hover:before {color: black;}#sk-container-id-2 div.sk-estimator:hover label.sk-toggleable__label-arrow:before {color: black;}#sk-container-id-2 div.sk-toggleable__content {max-height: 0;max-width: 0;overflow: hidden;text-align: left;background-color: #f0f8ff;}#sk-container-id-2 div.sk-toggleable__content pre {margin: 0.2em;color: black;border-radius: 0.25em;background-color: #f0f8ff;}#sk-container-id-2 input.sk-toggleable__control:checked~div.sk-toggleable__content {max-height: 200px;max-width: 100%;overflow: auto;}#sk-container-id-2 input.sk-toggleable__control:checked~label.sk-toggleable__label-arrow:before {content: \"▾\";}#sk-container-id-2 div.sk-estimator input.sk-toggleable__control:checked~label.sk-toggleable__label {background-color: #d4ebff;}#sk-container-id-2 div.sk-label input.sk-toggleable__control:checked~label.sk-toggleable__label {background-color: #d4ebff;}#sk-container-id-2 input.sk-hidden--visually {border: 0;clip: rect(1px 1px 1px 1px);clip: rect(1px, 1px, 1px, 1px);height: 1px;margin: -1px;overflow: hidden;padding: 0;position: absolute;width: 1px;}#sk-container-id-2 div.sk-estimator {font-family: monospace;background-color: #f0f8ff;border: 1px dotted black;border-radius: 0.25em;box-sizing: border-box;margin-bottom: 0.5em;}#sk-container-id-2 div.sk-estimator:hover {background-color: #d4ebff;}#sk-container-id-2 div.sk-parallel-item::after {content: \"\";width: 100%;border-bottom: 1px solid gray;flex-grow: 1;}#sk-container-id-2 div.sk-label:hover label.sk-toggleable__label {background-color: #d4ebff;}#sk-container-id-2 div.sk-serial::before {content: \"\";position: absolute;border-left: 1px solid gray;box-sizing: border-box;top: 0;bottom: 0;left: 50%;z-index: 0;}#sk-container-id-2 div.sk-serial {display: flex;flex-direction: column;align-items: center;background-color: white;padding-right: 0.2em;padding-left: 0.2em;position: relative;}#sk-container-id-2 div.sk-item {position: relative;z-index: 1;}#sk-container-id-2 div.sk-parallel {display: flex;align-items: stretch;justify-content: center;background-color: white;position: relative;}#sk-container-id-2 div.sk-item::before, #sk-container-id-2 div.sk-parallel-item::before {content: \"\";position: absolute;border-left: 1px solid gray;box-sizing: border-box;top: 0;bottom: 0;left: 50%;z-index: -1;}#sk-container-id-2 div.sk-parallel-item {display: flex;flex-direction: column;z-index: 1;position: relative;background-color: white;}#sk-container-id-2 div.sk-parallel-item:first-child::after {align-self: flex-end;width: 50%;}#sk-container-id-2 div.sk-parallel-item:last-child::after {align-self: flex-start;width: 50%;}#sk-container-id-2 div.sk-parallel-item:only-child::after {width: 0;}#sk-container-id-2 div.sk-dashed-wrapped {border: 1px dashed gray;margin: 0 0.4em 0.5em 0.4em;box-sizing: border-box;padding-bottom: 0.4em;background-color: white;}#sk-container-id-2 div.sk-label label {font-family: monospace;font-weight: bold;display: inline-block;line-height: 1.2em;}#sk-container-id-2 div.sk-label-container {text-align: center;}#sk-container-id-2 div.sk-container {/* jupyter's `normalize.less` sets `[hidden] { display: none; }` but bootstrap.min.css set `[hidden] { display: none !important; }` so we also need the `!important` here to be able to override the default hidden behavior on the sphinx rendered scikit-learn.org. See: https://github.com/scikit-learn/scikit-learn/issues/21755 */display: inline-block !important;position: relative;}#sk-container-id-2 div.sk-text-repr-fallback {display: none;}</style><div id=\"sk-container-id-2\" class=\"sk-top-container\"><div class=\"sk-text-repr-fallback\"><pre>Pipeline(steps=[(&#x27;scalar&#x27;, StandardScaler()),\n",
       "                (&#x27;regressor&#x27;,\n",
       "                 RegressorChain(base_estimator=KNeighborsRegressor(n_neighbors=9,\n",
       "                                                                   p=1,\n",
       "                                                                   weights=&#x27;distance&#x27;),\n",
       "                                order=[0, 1]))])</pre><b>In a Jupyter environment, please rerun this cell to show the HTML representation or trust the notebook. <br />On GitHub, the HTML representation is unable to render, please try loading this page with nbviewer.org.</b></div><div class=\"sk-container\" hidden><div class=\"sk-item sk-dashed-wrapped\"><div class=\"sk-label-container\"><div class=\"sk-label sk-toggleable\"><input class=\"sk-toggleable__control sk-hidden--visually\" id=\"sk-estimator-id-6\" type=\"checkbox\" ><label for=\"sk-estimator-id-6\" class=\"sk-toggleable__label sk-toggleable__label-arrow\">Pipeline</label><div class=\"sk-toggleable__content\"><pre>Pipeline(steps=[(&#x27;scalar&#x27;, StandardScaler()),\n",
       "                (&#x27;regressor&#x27;,\n",
       "                 RegressorChain(base_estimator=KNeighborsRegressor(n_neighbors=9,\n",
       "                                                                   p=1,\n",
       "                                                                   weights=&#x27;distance&#x27;),\n",
       "                                order=[0, 1]))])</pre></div></div></div><div class=\"sk-serial\"><div class=\"sk-item\"><div class=\"sk-estimator sk-toggleable\"><input class=\"sk-toggleable__control sk-hidden--visually\" id=\"sk-estimator-id-7\" type=\"checkbox\" ><label for=\"sk-estimator-id-7\" class=\"sk-toggleable__label sk-toggleable__label-arrow\">StandardScaler</label><div class=\"sk-toggleable__content\"><pre>StandardScaler()</pre></div></div></div><div class=\"sk-item sk-dashed-wrapped\"><div class=\"sk-label-container\"><div class=\"sk-label sk-toggleable\"><input class=\"sk-toggleable__control sk-hidden--visually\" id=\"sk-estimator-id-8\" type=\"checkbox\" ><label for=\"sk-estimator-id-8\" class=\"sk-toggleable__label sk-toggleable__label-arrow\">regressor: RegressorChain</label><div class=\"sk-toggleable__content\"><pre>RegressorChain(base_estimator=KNeighborsRegressor(n_neighbors=9, p=1,\n",
       "                                                  weights=&#x27;distance&#x27;),\n",
       "               order=[0, 1])</pre></div></div></div><div class=\"sk-parallel\"><div class=\"sk-parallel-item\"><div class=\"sk-item\"><div class=\"sk-label-container\"><div class=\"sk-label sk-toggleable\"><input class=\"sk-toggleable__control sk-hidden--visually\" id=\"sk-estimator-id-9\" type=\"checkbox\" ><label for=\"sk-estimator-id-9\" class=\"sk-toggleable__label sk-toggleable__label-arrow\">base_estimator: KNeighborsRegressor</label><div class=\"sk-toggleable__content\"><pre>KNeighborsRegressor(n_neighbors=9, p=1, weights=&#x27;distance&#x27;)</pre></div></div></div><div class=\"sk-serial\"><div class=\"sk-item\"><div class=\"sk-estimator sk-toggleable\"><input class=\"sk-toggleable__control sk-hidden--visually\" id=\"sk-estimator-id-10\" type=\"checkbox\" ><label for=\"sk-estimator-id-10\" class=\"sk-toggleable__label sk-toggleable__label-arrow\">KNeighborsRegressor</label><div class=\"sk-toggleable__content\"><pre>KNeighborsRegressor(n_neighbors=9, p=1, weights=&#x27;distance&#x27;)</pre></div></div></div></div></div></div></div></div></div></div></div></div>"
      ],
      "text/plain": [
       "Pipeline(steps=[('scalar', StandardScaler()),\n",
       "                ('regressor',\n",
       "                 RegressorChain(base_estimator=KNeighborsRegressor(n_neighbors=9,\n",
       "                                                                   p=1,\n",
       "                                                                   weights='distance'),\n",
       "                                order=[0, 1]))])"
      ]
     },
     "execution_count": 35,
     "metadata": {},
     "output_type": "execute_result"
    }
   ],
   "source": [
    "pipe.fit(X_t, y_t)"
   ]
  },
  {
   "cell_type": "code",
   "execution_count": 36,
   "id": "34844e69-651c-45c9-a480-2dcec89793c1",
   "metadata": {},
   "outputs": [],
   "source": [
    "Xtest = np.array(X_test)\n",
    "yhat = pipe.predict(Xtest)"
   ]
  },
  {
   "cell_type": "code",
   "execution_count": 37,
   "id": "977be2d3-d4ae-42ab-888f-89b3dc3cd154",
   "metadata": {},
   "outputs": [
    {
     "data": {
      "text/plain": [
       "149.00483795116412"
      ]
     },
     "execution_count": 37,
     "metadata": {},
     "output_type": "execute_result"
    }
   ],
   "source": [
    "mean_squared_error(y_test, yhat, squared= False)"
   ]
  },
  {
   "cell_type": "code",
   "execution_count": 38,
   "id": "2bb6c544-a67e-4cc0-8f8b-128d2676777f",
   "metadata": {},
   "outputs": [
    {
     "data": {
      "text/html": [
       "<div>\n",
       "<style scoped>\n",
       "    .dataframe tbody tr th:only-of-type {\n",
       "        vertical-align: middle;\n",
       "    }\n",
       "\n",
       "    .dataframe tbody tr th {\n",
       "        vertical-align: top;\n",
       "    }\n",
       "\n",
       "    .dataframe thead th {\n",
       "        text-align: right;\n",
       "    }\n",
       "</style>\n",
       "<table border=\"1\" class=\"dataframe\">\n",
       "  <thead>\n",
       "    <tr style=\"text-align: right;\">\n",
       "      <th></th>\n",
       "      <th>predicted lng flow</th>\n",
       "      <th>predicted LNG Rundown Temperature</th>\n",
       "    </tr>\n",
       "  </thead>\n",
       "  <tbody>\n",
       "    <tr>\n",
       "      <th>0</th>\n",
       "      <td>13509.923222</td>\n",
       "      <td>-145.550721</td>\n",
       "    </tr>\n",
       "    <tr>\n",
       "      <th>1</th>\n",
       "      <td>12170.430456</td>\n",
       "      <td>-145.727184</td>\n",
       "    </tr>\n",
       "    <tr>\n",
       "      <th>2</th>\n",
       "      <td>13404.951410</td>\n",
       "      <td>-145.707795</td>\n",
       "    </tr>\n",
       "    <tr>\n",
       "      <th>3</th>\n",
       "      <td>12735.611069</td>\n",
       "      <td>-145.785677</td>\n",
       "    </tr>\n",
       "    <tr>\n",
       "      <th>4</th>\n",
       "      <td>11952.358026</td>\n",
       "      <td>-146.056697</td>\n",
       "    </tr>\n",
       "  </tbody>\n",
       "</table>\n",
       "</div>"
      ],
      "text/plain": [
       "   predicted lng flow  predicted LNG Rundown Temperature\n",
       "0        13509.923222                        -145.550721\n",
       "1        12170.430456                        -145.727184\n",
       "2        13404.951410                        -145.707795\n",
       "3        12735.611069                        -145.785677\n",
       "4        11952.358026                        -146.056697"
      ]
     },
     "execution_count": 38,
     "metadata": {},
     "output_type": "execute_result"
    }
   ],
   "source": [
    "pd.DataFrame(yhat, columns=['predicted lng flow', 'predicted LNG Rundown Temperature']).head()"
   ]
  },
  {
   "cell_type": "markdown",
   "id": "855fa20c-7a3b-41b7-9930-76960edec80f",
   "metadata": {},
   "source": [
    "#### visualize the performance of the pipe after hyperpararmeter fix"
   ]
  },
  {
   "cell_type": "code",
   "execution_count": 39,
   "id": "65413979-3376-4b6a-9fce-6954465bfbbc",
   "metadata": {},
   "outputs": [
    {
     "data": {
      "text/plain": [
       "((8006, 2), (8006, 2))"
      ]
     },
     "execution_count": 39,
     "metadata": {},
     "output_type": "execute_result"
    }
   ],
   "source": [
    "y_test.shape, yhat.shape"
   ]
  },
  {
   "cell_type": "code",
   "execution_count": 40,
   "id": "56bb70d6-e2e2-4789-be33-70d5dd1f169e",
   "metadata": {},
   "outputs": [
    {
     "data": {
      "image/png": "[encoded data removed]",
      "text/plain": [
       "<Figure size 864x504 with 1 Axes>"
      ]
     },
     "metadata": {
      "needs_background": "light"
     },
     "output_type": "display_data"
    }
   ],
   "source": [
    "plt.figure(figsize=(12,7))\n",
    "sns.regplot(x=yhat[:, 0], y=y_test.iloc[:, 0], line_kws={'color':'red'})\n",
    "plt.xlabel(\"predicted lng flow\")\n",
    "plt.ylabel(\"actual lng flow\")\n",
    "plt.grid()\n",
    "plt.savefig(\"improv lng pred\")"
   ]
  },
  {
   "cell_type": "code",
   "execution_count": 41,
   "id": "064bcb40-117b-4031-9484-5e5f939673ab",
   "metadata": {},
   "outputs": [
    {
     "data": {
      "image/png": "[encoded data removed]",
      "text/plain": [
       "<Figure size 864x504 with 1 Axes>"
      ]
     },
     "metadata": {
      "needs_background": "light"
     },
     "output_type": "display_data"
    }
   ],
   "source": [
    "plt.figure(figsize=(12,7))\n",
    "sns.regplot(x=yhat[:, 1], y=y_test.iloc[:, 1], line_kws={'color':'red'})\n",
    "plt.xlabel(\"predicted MR return temperature\")\n",
    "plt.ylabel(\"actual MR return temperature\")\n",
    "plt.grid()\n",
    "plt.savefig(\"improv temp pred\")"
   ]
  },
  {
   "cell_type": "markdown",
   "id": "175df0fd-089e-4b47-9c05-ed1d3d466b85",
   "metadata": {
    "tags": []
   },
   "source": [
    "## Export Model"
   ]
  },
  {
   "cell_type": "code",
   "execution_count": 41,
   "id": "51826444-d948-439b-b225-88c7b56f9d66",
   "metadata": {},
   "outputs": [],
   "source": [
    "import pickle as pkl"
   ]
  },
  {
   "cell_type": "code",
   "execution_count": 42,
   "id": "ab7239aa-fedc-4285-ac85-204d5335b478",
   "metadata": {},
   "outputs": [
    {
     "name": "stdout",
     "output_type": "stream",
     "text": [
      "Done!\n"
     ]
    }
   ],
   "source": [
    "with open(\"model.pkl\", \"wb\") as obj:\n",
    "    pkl.dump(pipe, obj)\n",
    "    print(\"Done!\")"
   ]
  },
  {
   "cell_type": "code",
   "execution_count": null,
   "id": "b9f2f3fa-ad60-4039-a748-f8ee9cc59d51",
   "metadata": {},
   "outputs": [],
   "source": []
  }
 ],
 "metadata": {
  "kernelspec": {
   "display_name": "Python 3 (ipykernel)",
   "language": "python",
   "name": "python3"
  },
  "language_info": {
   "codemirror_mode": {
    "name": "ipython",
    "version": 3
   },
   "file_extension": ".py",
   "mimetype": "text/x-python",
   "name": "python",
   "nbconvert_exporter": "python",
   "pygments_lexer": "ipython3",
   "version": "3.10.0"
  },
  "vscode": {
   "interpreter": {
    "hash": "72c4305ed16563862b7b8f497eeac66b171a2e02864ff61cfb80a89c78fe124b"
   }
  }
 },
 "nbformat": 4,
 "nbformat_minor": 5
}
