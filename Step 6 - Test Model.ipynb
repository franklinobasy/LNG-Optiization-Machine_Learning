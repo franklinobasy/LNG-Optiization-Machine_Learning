{
 "cells": [
  {
   "cell_type": "markdown",
   "id": "74c217fe-d77d-47c8-9925-f5da12953c59",
   "metadata": {},
   "source": [
    "# Test Model"
   ]
  },
  {
   "cell_type": "markdown",
   "id": "3b73957c-43b4-41d3-aba1-914a7396597c",
   "metadata": {},
   "source": [
    "## Import Pickle and algorithm"
   ]
  },
  {
   "cell_type": "code",
   "execution_count": 1,
   "id": "c905dafd-f1e5-414a-9a7f-8a9f7fa378fc",
   "metadata": {},
   "outputs": [],
   "source": [
    "import pickle as pkl\n",
    "import numpy as np\n",
    "import pandas as pd\n",
    "from input_search_algorithm import Optimize"
   ]
  },
  {
   "cell_type": "markdown",
   "id": "70d3f58e-f19a-4112-8068-9b44dd71c787",
   "metadata": {},
   "source": [
    "## Load Model"
   ]
  },
  {
   "cell_type": "code",
   "execution_count": 2,
   "id": "c43d846f-52ae-470d-85bd-0f8dcd66b78a",
   "metadata": {},
   "outputs": [],
   "source": [
    "with open('model.pkl', 'rb') as obj:\n",
    "    model = pkl.load(obj)"
   ]
  },
  {
   "cell_type": "code",
   "execution_count": 3,
   "id": "44c0c2e7-a1e7-4b4c-ba9e-6866b2b7dbc6",
   "metadata": {},
   "outputs": [
    {
     "data": {
      "text/html": [
       "<style>#sk-container-id-1 {color: black;background-color: white;}#sk-container-id-1 pre{padding: 0;}#sk-container-id-1 div.sk-toggleable {background-color: white;}#sk-container-id-1 label.sk-toggleable__label {cursor: pointer;display: block;width: 100%;margin-bottom: 0;padding: 0.3em;box-sizing: border-box;text-align: center;}#sk-container-id-1 label.sk-toggleable__label-arrow:before {content: \"▸\";float: left;margin-right: 0.25em;color: #696969;}#sk-container-id-1 label.sk-toggleable__label-arrow:hover:before {color: black;}#sk-container-id-1 div.sk-estimator:hover label.sk-toggleable__label-arrow:before {color: black;}#sk-container-id-1 div.sk-toggleable__content {max-height: 0;max-width: 0;overflow: hidden;text-align: left;background-color: #f0f8ff;}#sk-container-id-1 div.sk-toggleable__content pre {margin: 0.2em;color: black;border-radius: 0.25em;background-color: #f0f8ff;}#sk-container-id-1 input.sk-toggleable__control:checked~div.sk-toggleable__content {max-height: 200px;max-width: 100%;overflow: auto;}#sk-container-id-1 input.sk-toggleable__control:checked~label.sk-toggleable__label-arrow:before {content: \"▾\";}#sk-container-id-1 div.sk-estimator input.sk-toggleable__control:checked~label.sk-toggleable__label {background-color: #d4ebff;}#sk-container-id-1 div.sk-label input.sk-toggleable__control:checked~label.sk-toggleable__label {background-color: #d4ebff;}#sk-container-id-1 input.sk-hidden--visually {border: 0;clip: rect(1px 1px 1px 1px);clip: rect(1px, 1px, 1px, 1px);height: 1px;margin: -1px;overflow: hidden;padding: 0;position: absolute;width: 1px;}#sk-container-id-1 div.sk-estimator {font-family: monospace;background-color: #f0f8ff;border: 1px dotted black;border-radius: 0.25em;box-sizing: border-box;margin-bottom: 0.5em;}#sk-container-id-1 div.sk-estimator:hover {background-color: #d4ebff;}#sk-container-id-1 div.sk-parallel-item::after {content: \"\";width: 100%;border-bottom: 1px solid gray;flex-grow: 1;}#sk-container-id-1 div.sk-label:hover label.sk-toggleable__label {background-color: #d4ebff;}#sk-container-id-1 div.sk-serial::before {content: \"\";position: absolute;border-left: 1px solid gray;box-sizing: border-box;top: 0;bottom: 0;left: 50%;z-index: 0;}#sk-container-id-1 div.sk-serial {display: flex;flex-direction: column;align-items: center;background-color: white;padding-right: 0.2em;padding-left: 0.2em;position: relative;}#sk-container-id-1 div.sk-item {position: relative;z-index: 1;}#sk-container-id-1 div.sk-parallel {display: flex;align-items: stretch;justify-content: center;background-color: white;position: relative;}#sk-container-id-1 div.sk-item::before, #sk-container-id-1 div.sk-parallel-item::before {content: \"\";position: absolute;border-left: 1px solid gray;box-sizing: border-box;top: 0;bottom: 0;left: 50%;z-index: -1;}#sk-container-id-1 div.sk-parallel-item {display: flex;flex-direction: column;z-index: 1;position: relative;background-color: white;}#sk-container-id-1 div.sk-parallel-item:first-child::after {align-self: flex-end;width: 50%;}#sk-container-id-1 div.sk-parallel-item:last-child::after {align-self: flex-start;width: 50%;}#sk-container-id-1 div.sk-parallel-item:only-child::after {width: 0;}#sk-container-id-1 div.sk-dashed-wrapped {border: 1px dashed gray;margin: 0 0.4em 0.5em 0.4em;box-sizing: border-box;padding-bottom: 0.4em;background-color: white;}#sk-container-id-1 div.sk-label label {font-family: monospace;font-weight: bold;display: inline-block;line-height: 1.2em;}#sk-container-id-1 div.sk-label-container {text-align: center;}#sk-container-id-1 div.sk-container {/* jupyter's `normalize.less` sets `[hidden] { display: none; }` but bootstrap.min.css set `[hidden] { display: none !important; }` so we also need the `!important` here to be able to override the default hidden behavior on the sphinx rendered scikit-learn.org. See: https://github.com/scikit-learn/scikit-learn/issues/21755 */display: inline-block !important;position: relative;}#sk-container-id-1 div.sk-text-repr-fallback {display: none;}</style><div id=\"sk-container-id-1\" class=\"sk-top-container\"><div class=\"sk-text-repr-fallback\"><pre>Pipeline(steps=[(&#x27;scalar&#x27;, StandardScaler()),\n",
       "                (&#x27;regressor&#x27;,\n",
       "                 RegressorChain(base_estimator=KNeighborsRegressor(n_neighbors=9,\n",
       "                                                                   p=1,\n",
       "                                                                   weights=&#x27;distance&#x27;),\n",
       "                                order=[0, 1]))])</pre><b>In a Jupyter environment, please rerun this cell to show the HTML representation or trust the notebook. <br />On GitHub, the HTML representation is unable to render, please try loading this page with nbviewer.org.</b></div><div class=\"sk-container\" hidden><div class=\"sk-item sk-dashed-wrapped\"><div class=\"sk-label-container\"><div class=\"sk-label sk-toggleable\"><input class=\"sk-toggleable__control sk-hidden--visually\" id=\"sk-estimator-id-1\" type=\"checkbox\" ><label for=\"sk-estimator-id-1\" class=\"sk-toggleable__label sk-toggleable__label-arrow\">Pipeline</label><div class=\"sk-toggleable__content\"><pre>Pipeline(steps=[(&#x27;scalar&#x27;, StandardScaler()),\n",
       "                (&#x27;regressor&#x27;,\n",
       "                 RegressorChain(base_estimator=KNeighborsRegressor(n_neighbors=9,\n",
       "                                                                   p=1,\n",
       "                                                                   weights=&#x27;distance&#x27;),\n",
       "                                order=[0, 1]))])</pre></div></div></div><div class=\"sk-serial\"><div class=\"sk-item\"><div class=\"sk-estimator sk-toggleable\"><input class=\"sk-toggleable__control sk-hidden--visually\" id=\"sk-estimator-id-2\" type=\"checkbox\" ><label for=\"sk-estimator-id-2\" class=\"sk-toggleable__label sk-toggleable__label-arrow\">StandardScaler</label><div class=\"sk-toggleable__content\"><pre>StandardScaler()</pre></div></div></div><div class=\"sk-item sk-dashed-wrapped\"><div class=\"sk-label-container\"><div class=\"sk-label sk-toggleable\"><input class=\"sk-toggleable__control sk-hidden--visually\" id=\"sk-estimator-id-3\" type=\"checkbox\" ><label for=\"sk-estimator-id-3\" class=\"sk-toggleable__label sk-toggleable__label-arrow\">regressor: RegressorChain</label><div class=\"sk-toggleable__content\"><pre>RegressorChain(base_estimator=KNeighborsRegressor(n_neighbors=9, p=1,\n",
       "                                                  weights=&#x27;distance&#x27;),\n",
       "               order=[0, 1])</pre></div></div></div><div class=\"sk-parallel\"><div class=\"sk-parallel-item\"><div class=\"sk-item\"><div class=\"sk-label-container\"><div class=\"sk-label sk-toggleable\"><input class=\"sk-toggleable__control sk-hidden--visually\" id=\"sk-estimator-id-4\" type=\"checkbox\" ><label for=\"sk-estimator-id-4\" class=\"sk-toggleable__label sk-toggleable__label-arrow\">base_estimator: KNeighborsRegressor</label><div class=\"sk-toggleable__content\"><pre>KNeighborsRegressor(n_neighbors=9, p=1, weights=&#x27;distance&#x27;)</pre></div></div></div><div class=\"sk-serial\"><div class=\"sk-item\"><div class=\"sk-estimator sk-toggleable\"><input class=\"sk-toggleable__control sk-hidden--visually\" id=\"sk-estimator-id-5\" type=\"checkbox\" ><label for=\"sk-estimator-id-5\" class=\"sk-toggleable__label sk-toggleable__label-arrow\">KNeighborsRegressor</label><div class=\"sk-toggleable__content\"><pre>KNeighborsRegressor(n_neighbors=9, p=1, weights=&#x27;distance&#x27;)</pre></div></div></div></div></div></div></div></div></div></div></div></div>"
      ],
      "text/plain": [
       "Pipeline(steps=[('scalar', StandardScaler()),\n",
       "                ('regressor',\n",
       "                 RegressorChain(base_estimator=KNeighborsRegressor(n_neighbors=9,\n",
       "                                                                   p=1,\n",
       "                                                                   weights='distance'),\n",
       "                                order=[0, 1]))])"
      ]
     },
     "execution_count": 3,
     "metadata": {},
     "output_type": "execute_result"
    }
   ],
   "source": [
    "model"
   ]
  },
  {
   "cell_type": "markdown",
   "id": "27dc3cc5-2799-4759-ac88-b9ecfd80760b",
   "metadata": {},
   "source": [
    "## Prepare inputs"
   ]
  },
  {
   "cell_type": "code",
   "execution_count": 4,
   "id": "285e0efe-633e-4ef1-9ce7-2fa9ff55f663",
   "metadata": {},
   "outputs": [],
   "source": [
    "input = [77.76280212402344, \n",
    "        18679.06640625, \n",
    "        5.310717582702637, \n",
    "        3.646484375, \n",
    "        42.5, \n",
    "        43.53261947631836, \n",
    "        10.102831840515137, \n",
    "        0.1255078166723251, \n",
    "        33.20726776123047, \n",
    "        62.857421875\n",
    "]\n",
    "\n",
    "#input = np.array(input).reshape((1, -1))\n",
    "\n",
    "spaces = [(0.0, 82.99989318847656), \n",
    "        (0.0, 22607.90234375), \n",
    "        (0.0, 755.8787231445312), \n",
    "        (0.0, 24.98193359375), \n",
    "        (-0.00830078125, 84.9219741821289), \n",
    "        (-0.0166015625, 84.89873504638672), \n",
    "        (0.0, 20.802440643310547), \n",
    "        (-0.0007421874906867, 0.9607030749320984), \n",
    "        (0.0, 37.24669647216797), \n",
    "        (50, 90)]\n",
    "\n",
    "output = np.array([[12470.894531, -145.712891]])"
   ]
  },
  {
   "cell_type": "markdown",
   "id": "4c4a7267-d5f3-4255-b063-238ab675ded4",
   "metadata": {},
   "source": [
    "## Make prediction"
   ]
  },
  {
   "cell_type": "code",
   "execution_count": 5,
   "id": "813ba520-3fe4-4215-bd7a-c8a6c0c2484e",
   "metadata": {},
   "outputs": [
    {
     "name": "stdout",
     "output_type": "stream",
     "text": [
      "maximizing...\n",
      "number of iterations =  3156\n"
     ]
    }
   ],
   "source": [
    "p = Optimize(model.predict, input, spaces, output)\n",
    "result = p.maximize()"
   ]
  },
  {
   "cell_type": "code",
   "execution_count": 6,
   "id": "f3628306-40e7-4e73-a50f-85262c788168",
   "metadata": {},
   "outputs": [],
   "source": [
    "optimized_input, approximate_output, iteration = result"
   ]
  },
  {
   "cell_type": "code",
   "execution_count": 7,
   "id": "4033aabc-5d25-4b95-8e76-f625a52cdc7a",
   "metadata": {},
   "outputs": [
    {
     "name": "stdout",
     "output_type": "stream",
     "text": [
      "[57.32725355360243, 18692.820156093596, 0.0, 3.3759369721283785, 42.49934434556627, -0.0166015625, 9.891050355928439, -0.0007421874906867, 8.053339777766046, 62.17217217217217]\n"
     ]
    }
   ],
   "source": [
    "print(optimized_input)"
   ]
  },
  {
   "cell_type": "code",
   "execution_count": 8,
   "id": "b5df0ac2-3e88-4875-b6fc-199e5d72299b",
   "metadata": {},
   "outputs": [
    {
     "name": "stdout",
     "output_type": "stream",
     "text": [
      "[[12914.41877308  -146.00366209]]\n"
     ]
    }
   ],
   "source": [
    "print(approximate_output)"
   ]
  },
  {
   "cell_type": "markdown",
   "id": "ee246942-5ef3-4ac0-b21d-37967ac22d6f",
   "metadata": {},
   "source": [
    "## Percentage increase in new output"
   ]
  },
  {
   "cell_type": "code",
   "execution_count": 9,
   "id": "250a020f-d366-4ce6-ab4d-b7f6dbb57384",
   "metadata": {},
   "outputs": [],
   "source": [
    "def percentage_increase(new, old):\n",
    "    return ((new - old)/old) * 100"
   ]
  },
  {
   "cell_type": "code",
   "execution_count": 10,
   "id": "d6c82bd0-ca0e-4b53-a647-7c820d51b094",
   "metadata": {},
   "outputs": [],
   "source": [
    "increase = percentage_increase(approximate_output, output)"
   ]
  },
  {
   "cell_type": "code",
   "execution_count": 11,
   "id": "0d3bf42c-4098-4ca2-9217-c281ee1341dc",
   "metadata": {},
   "outputs": [],
   "source": [
    "result = pd.DataFrame({\n",
    "    'LNG FLOW': [output[0, 0], approximate_output[0, 0], increase[0, 0]],\n",
    "    'MR return Temperature': [output[0, 1], approximate_output[0, 1], increase[0, 1]]\n",
    "}, index = [\"original\", \"optimized\", \"percentage increase\"])"
   ]
  },
  {
   "cell_type": "code",
   "execution_count": 12,
   "id": "ddf2b311-0dd4-4caa-a4b0-9092f5f54dca",
   "metadata": {},
   "outputs": [
    {
     "data": {
      "text/html": [
       "<div>\n",
       "<style scoped>\n",
       "    .dataframe tbody tr th:only-of-type {\n",
       "        vertical-align: middle;\n",
       "    }\n",
       "\n",
       "    .dataframe tbody tr th {\n",
       "        vertical-align: top;\n",
       "    }\n",
       "\n",
       "    .dataframe thead th {\n",
       "        text-align: right;\n",
       "    }\n",
       "</style>\n",
       "<table border=\"1\" class=\"dataframe\">\n",
       "  <thead>\n",
       "    <tr style=\"text-align: right;\">\n",
       "      <th></th>\n",
       "      <th>LNG FLOW</th>\n",
       "      <th>MR return Temperature</th>\n",
       "    </tr>\n",
       "  </thead>\n",
       "  <tbody>\n",
       "    <tr>\n",
       "      <th>original</th>\n",
       "      <td>12470.894531</td>\n",
       "      <td>-145.712891</td>\n",
       "    </tr>\n",
       "    <tr>\n",
       "      <th>optimized</th>\n",
       "      <td>12914.418773</td>\n",
       "      <td>-146.003662</td>\n",
       "    </tr>\n",
       "    <tr>\n",
       "      <th>percentage increase</th>\n",
       "      <td>3.556475</td>\n",
       "      <td>0.199551</td>\n",
       "    </tr>\n",
       "  </tbody>\n",
       "</table>\n",
       "</div>"
      ],
      "text/plain": [
       "                         LNG FLOW  MR return Temperature\n",
       "original             12470.894531            -145.712891\n",
       "optimized            12914.418773            -146.003662\n",
       "percentage increase      3.556475               0.199551"
      ]
     },
     "execution_count": 12,
     "metadata": {},
     "output_type": "execute_result"
    }
   ],
   "source": [
    "result"
   ]
  },
  {
   "cell_type": "code",
   "execution_count": null,
   "id": "3ace274b-2100-4759-9ef0-b850ffd0ccdd",
   "metadata": {},
   "outputs": [],
   "source": []
  },
  {
   "cell_type": "code",
   "execution_count": null,
   "id": "318331f2-edcf-42e0-82ff-94bef6ae33f9",
   "metadata": {},
   "outputs": [],
   "source": []
  }
 ],
 "metadata": {
  "kernelspec": {
   "display_name": "Python 3 (ipykernel)",
   "language": "python",
   "name": "python3"
  },
  "language_info": {
   "codemirror_mode": {
    "name": "ipython",
    "version": 3
   },
   "file_extension": ".py",
   "mimetype": "text/x-python",
   "name": "python",
   "nbconvert_exporter": "python",
   "pygments_lexer": "ipython3",
   "version": "3.10.0"
  },
  "vscode": {
   "interpreter": {
    "hash": "72c4305ed16563862b7b8f497eeac66b171a2e02864ff61cfb80a89c78fe124b"
   }
  }
 },
 "nbformat": 4,
 "nbformat_minor": 5
}
